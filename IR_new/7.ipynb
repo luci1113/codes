{
 "cells": [
  {
   "cell_type": "code",
   "execution_count": 24,
   "id": "14677f97-141b-4f32-a413-4507d04e1110",
   "metadata": {},
   "outputs": [],
   "source": [
    "doc1=\"The quick brown fox jumped on lazy dog.\"\n",
    "doc2=\"The lazy dog slept in the sun.\""
   ]
  },
  {
   "cell_type": "code",
   "execution_count": 25,
   "id": "e074bea4-0814-45cb-91c0-ffbced722c8b",
   "metadata": {},
   "outputs": [],
   "source": [
    "#step tokenize\n",
    "token1=doc1.lower().split()\n",
    "token2=doc2.lower().split()\n"
   ]
  },
  {
   "cell_type": "code",
   "execution_count": 26,
   "id": "86f3c809-3a51-40c5-9f47-0528a0279e60",
   "metadata": {},
   "outputs": [],
   "source": [
    "#combine them\n",
    "\n",
    "terms=list(set(token1+token2))"
   ]
  },
  {
   "cell_type": "code",
   "execution_count": 28,
   "id": "d5030646-55d2-4e06-b31a-49f4a2c037c5",
   "metadata": {},
   "outputs": [],
   "source": [
    "#build inverted file\n",
    "\n",
    "inverted_index={}\n",
    "\n",
    "for term in terms:\n",
    "    document=[]\n",
    "    if term in token1:\n",
    "        document.append(\"Document 1\")\n",
    "    if term in token2:\n",
    "        document.append(\"Docuemnt 2\")\n",
    "    inverted_index[term]=document"
   ]
  },
  {
   "cell_type": "code",
   "execution_count": 30,
   "id": "1c3c736e-b14a-4a87-9060-b34d504e5fef",
   "metadata": {},
   "outputs": [
    {
     "name": "stdout",
     "output_type": "stream",
     "text": [
      "jumped -> Document 1\n",
      "dog. -> Document 1\n",
      "in -> Docuemnt 2\n",
      "dog -> Docuemnt 2\n",
      "lazy -> Document 1,Docuemnt 2\n",
      "sun. -> Docuemnt 2\n",
      "slept -> Docuemnt 2\n",
      "fox -> Document 1\n",
      "quick -> Document 1\n",
      "the -> Document 1,Docuemnt 2\n",
      "brown -> Document 1\n",
      "on -> Document 1\n"
     ]
    }
   ],
   "source": [
    "#print\n",
    "for term,document in inverted_index.items():\n",
    "    print(term,\"->\",\",\".join(document))"
   ]
  },
  {
   "cell_type": "code",
   "execution_count": null,
   "id": "65a3c7db-dd88-4f4c-911e-1bc2eece3640",
   "metadata": {},
   "outputs": [],
   "source": [
    "prin"
   ]
  }
 ],
 "metadata": {
  "kernelspec": {
   "display_name": "Python 3 (ipykernel)",
   "language": "python",
   "name": "python3"
  },
  "language_info": {
   "codemirror_mode": {
    "name": "ipython",
    "version": 3
   },
   "file_extension": ".py",
   "mimetype": "text/x-python",
   "name": "python",
   "nbconvert_exporter": "python",
   "pygments_lexer": "ipython3",
   "version": "3.10.10"
  }
 },
 "nbformat": 4,
 "nbformat_minor": 5
}
