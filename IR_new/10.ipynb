{
 "cells": [
  {
   "cell_type": "code",
   "execution_count": 1,
   "id": "a5bf08e5-c308-4a91-adab-93bacdc018c3",
   "metadata": {},
   "outputs": [
    {
     "name": "stdout",
     "output_type": "stream",
     "text": [
      "Page 1: PageRank = 0.0803\n",
      "Page 2: PageRank = 0.1485\n",
      "Page 3: PageRank = 0.1006\n",
      "Page 4: PageRank = 0.1006\n"
     ]
    }
   ],
   "source": [
    "import numpy as np\n",
    "\n",
    "# Define the web graph as an adjacency matrix\n",
    "# Each row represents a page, and each column represents a link to another page.\n",
    "# If there's a link from page i to page j, A[i][j] is 1; otherwise, it's 0.\n",
    "A = np.array([\n",
    "    [0, 1, 0, 0],\n",
    "    [0, 0, 1, 1],\n",
    "    [1, 1, 0, 0],\n",
    "    [0, 0, 0, 0]\n",
    "], dtype=float)\n",
    "\n",
    "# Initialize PageRank scores\n",
    "n = A.shape[0]\n",
    "pr = np.ones(n) / n\n",
    "\n",
    "# PageRank algorithm parameters\n",
    "d = 0.85  # Damping factor (typically between 0.85 and 0.95)\n",
    "num_iterations = 100\n",
    "\n",
    "# PageRank algorithm\n",
    "for _ in range(num_iterations):\n",
    "    new_pr = np.zeros(n)\n",
    "    for i in range(n):\n",
    "        for j in range(n):\n",
    "            if A[j, i] == 1:\n",
    "                new_pr[i] += pr[j] / np.sum(A[j])\n",
    "    pr = (1 - d) / n + d * new_pr\n",
    "\n",
    "# Print PageRank scores\n",
    "for i, score in enumerate(pr):\n",
    "    print(f\"Page {i + 1}: PageRank = {score:.4f}\")\n"
   ]
  },
  {
   "cell_type": "code",
   "execution_count": null,
   "id": "ad1b5b4c-7e21-4ede-be90-0c76099028c9",
   "metadata": {},
   "outputs": [],
   "source": []
  }
 ],
 "metadata": {
  "kernelspec": {
   "display_name": "Python 3 (ipykernel)",
   "language": "python",
   "name": "python3"
  },
  "language_info": {
   "codemirror_mode": {
    "name": "ipython",
    "version": 3
   },
   "file_extension": ".py",
   "mimetype": "text/x-python",
   "name": "python",
   "nbconvert_exporter": "python",
   "pygments_lexer": "ipython3",
   "version": "3.10.10"
  }
 },
 "nbformat": 4,
 "nbformat_minor": 5
}
