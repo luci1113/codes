{
 "cells": [
  {
   "cell_type": "code",
   "execution_count": 4,
   "id": "e01a7b53-a654-4403-a67a-e9629571c797",
   "metadata": {},
   "outputs": [
    {
     "name": "stdout",
     "output_type": "stream",
     "text": [
      "   Age  Gender BloodPressure HeartDisease\n",
      "0   66    Male          High           No\n",
      "1   54    Male          High           No\n",
      "2   40    Male          High           No\n",
      "3   75    Male        Normal          Yes\n",
      "4   64  Female          High           No\n"
     ]
    }
   ],
   "source": [
    "import pandas as pd\n",
    "import random\n",
    "\n",
    "# Create a sample dataset\n",
    "data = pd.DataFrame({\n",
    "    'Age': [random.randint(25, 75) for _ in range(100)],\n",
    "    'Gender': [random.choice(['Male', 'Female']) for _ in range(100)],\n",
    "    'BloodPressure': [random.choice(['Low', 'Normal', 'High']) for _ in range(100)],\n",
    "    'HeartDisease': [random.choice(['Yes', 'No']) for _ in range(100)]\n",
    "})\n",
    "\n",
    "# Display the first few rows of the dataset\n",
    "print(data.head())\n",
    "\n",
    "# Save the dataset to a CSV file\n",
    "data.to_csv('heart_disease_data.csv', index=False)\n"
   ]
  },
  {
   "cell_type": "code",
   "execution_count": 6,
   "id": "714e4c78-2790-4872-9de8-ff0e9b53523a",
   "metadata": {},
   "outputs": [
    {
     "data": {
      "text/plain": [
       "(100, 4)"
      ]
     },
     "execution_count": 6,
     "metadata": {},
     "output_type": "execute_result"
    }
   ],
   "source": [
    "data=pd.read_csv('heart_disease_data.csv')\n",
    "data.shape"
   ]
  },
  {
   "cell_type": "code",
   "execution_count": 16,
   "id": "1c7c1df1-d955-4241-aba8-9d429e39ed3f",
   "metadata": {},
   "outputs": [],
   "source": [
    "from pgmpy.models import BayesianNetwork\n",
    "from pgmpy.estimators import ParameterEstimator\n",
    "from pgmpy.inference import VariableElimination\n",
    "from pgmpy.factors.discrete import TabularCPD"
   ]
  },
  {
   "cell_type": "code",
   "execution_count": 17,
   "id": "bcacc392-4869-46f0-b950-2cc0877a0a28",
   "metadata": {},
   "outputs": [],
   "source": [
    "model = BayesianNetwork([('Age', 'HeartDisease'), ('Gender', 'HeartDisease'), ('BloodPressure', 'HeartDisease')])"
   ]
  },
  {
   "cell_type": "code",
   "execution_count": 18,
   "id": "a5e9f441-7670-4315-bb71-2a8a16d711f5",
   "metadata": {},
   "outputs": [],
   "source": [
    "# Estimate the conditional probability tables from the dataset\n",
    "model.fit(data)\n"
   ]
  },
  {
   "cell_type": "code",
   "execution_count": 20,
   "id": "ab4c0a67-9a60-4c41-b003-d9756a766c28",
   "metadata": {},
   "outputs": [
    {
     "name": "stdout",
     "output_type": "stream",
     "text": [
      "\n",
      " Inferencing with Bayesian Network:\n"
     ]
    }
   ],
   "source": [
    "# Inferencing with Bayesian Network\n",
    "print('\\n Inferencing with Bayesian Network:')\n",
    "HeartDisease_infer = VariableElimination(model)"
   ]
  },
  {
   "cell_type": "code",
   "execution_count": 39,
   "id": "d9e08ace-b2e9-445e-b812-5226faa1eee0",
   "metadata": {},
   "outputs": [
    {
     "name": "stdout",
     "output_type": "stream",
     "text": [
      "\n",
      " 1. Probability of Heart Disease given Age=50\n",
      "Yes : No --> [0.1505 0.8495]\n"
     ]
    }
   ],
   "source": [
    "# Computing the Probability of Heart Disease given Age\n",
    "print('\\n 1. Probability of Heart Disease given Age=50')\n",
    "q = HeartDisease_infer.query(variables=['HeartDisease'], evidence={'Age': 50})\n",
    "result = q.values\n",
    "print(\"Yes : No\",\"-->\",result)"
   ]
  },
  {
   "cell_type": "code",
   "execution_count": 35,
   "id": "8756b455-55e3-4f79-9c63-0fb958e172bc",
   "metadata": {},
   "outputs": [
    {
     "name": "stdout",
     "output_type": "stream",
     "text": [
      "\n",
      " 2. Probability of Heart Disease given BloodPressure=High\n",
      "[0.54065 0.45935]\n"
     ]
    }
   ],
   "source": [
    "# Computing the Probability of Heart Disease given cholesterol\n",
    "print('\\n 2. Probability of Heart Disease given BloodPressure=High')\n",
    "q = HeartDisease_infer.query(variables=['HeartDisease'], evidence={'BloodPressure': 'High'})\n",
    "result = q.values\n",
    "print(result)"
   ]
  },
  {
   "cell_type": "code",
   "execution_count": null,
   "id": "83e80fd9-0a5c-452b-acaa-b8761e9db171",
   "metadata": {},
   "outputs": [],
   "source": []
  }
 ],
 "metadata": {
  "kernelspec": {
   "display_name": "Python 3 (ipykernel)",
   "language": "python",
   "name": "python3"
  },
  "language_info": {
   "codemirror_mode": {
    "name": "ipython",
    "version": 3
   },
   "file_extension": ".py",
   "mimetype": "text/x-python",
   "name": "python",
   "nbconvert_exporter": "python",
   "pygments_lexer": "ipython3",
   "version": "3.10.10"
  }
 },
 "nbformat": 4,
 "nbformat_minor": 5
}
