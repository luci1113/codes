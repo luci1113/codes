{
 "cells": [
  {
   "cell_type": "code",
   "execution_count": 16,
   "id": "56337240-75a5-4bd5-9315-5e84adebda74",
   "metadata": {},
   "outputs": [],
   "source": [
    "import nltk \n",
    "from nltk.corpus import stopwords\n",
    "from nltk.stem import PorterStemmer\n",
    "from nltk.tokenize import word_tokenize"
   ]
  },
  {
   "cell_type": "code",
   "execution_count": 18,
   "id": "76b42f73-71b7-42a9-96ab-2eca19416bfa",
   "metadata": {},
   "outputs": [
    {
     "name": "stderr",
     "output_type": "stream",
     "text": [
      "[nltk_data] Downloading package stopwords to\n",
      "[nltk_data]     C:\\Users\\hp\\AppData\\Roaming\\nltk_data...\n",
      "[nltk_data]   Package stopwords is already up-to-date!\n",
      "[nltk_data] Downloading package punkt to\n",
      "[nltk_data]     C:\\Users\\hp\\AppData\\Roaming\\nltk_data...\n",
      "[nltk_data]   Package punkt is already up-to-date!\n"
     ]
    },
    {
     "data": {
      "text/plain": [
       "True"
      ]
     },
     "execution_count": 18,
     "metadata": {},
     "output_type": "execute_result"
    }
   ],
   "source": [
    "nltk.download('stopwords')\n",
    "nltk.download('punkt')"
   ]
  },
  {
   "cell_type": "code",
   "execution_count": 31,
   "id": "89fbff64-8252-4d8d-8212-8191af118a4e",
   "metadata": {},
   "outputs": [],
   "source": [
    "stemmer=PorterStemmer()\n",
    "stop_words=set(stopwords.words('english'))"
   ]
  },
  {
   "cell_type": "code",
   "execution_count": 32,
   "id": "93c97305-1ef0-4aeb-a518-a15df117fd4a",
   "metadata": {},
   "outputs": [],
   "source": [
    "ip_file='ip.txt'\n",
    "op_file='op.txt'"
   ]
  },
  {
   "cell_type": "code",
   "execution_count": 33,
   "id": "e5701306-cf89-44c0-b4d7-8ad5061b8acf",
   "metadata": {},
   "outputs": [],
   "source": [
    "with open('ip.txt', 'r') as file:\n",
    "    text=file.read()"
   ]
  },
  {
   "cell_type": "code",
   "execution_count": 36,
   "id": "8fcd2f9a-74d0-475e-8e46-476abea1c62b",
   "metadata": {},
   "outputs": [],
   "source": [
    "words=word_tokenize(text)\n",
    "filter_words=[stemmer.stem(word) for word in words if word.lower() not in stop_words]\n",
    "processed_word=' '.join(filter_words)"
   ]
  },
  {
   "cell_type": "code",
   "execution_count": 38,
   "id": "50ec4556-6dd7-40b1-8a74-ee9030031ef7",
   "metadata": {},
   "outputs": [
    {
     "name": "stdout",
     "output_type": "stream",
     "text": [
      "Complete  op.txt\n"
     ]
    }
   ],
   "source": [
    "with open('op.txt','w') as file:\n",
    "    file.write(processed_word)\n",
    "print('Complete ', op_file)"
   ]
  },
  {
   "cell_type": "code",
   "execution_count": null,
   "id": "27d0d615-fc9a-43c5-8e55-7533e8b91717",
   "metadata": {},
   "outputs": [],
   "source": []
  }
 ],
 "metadata": {
  "kernelspec": {
   "display_name": "Python 3 (ipykernel)",
   "language": "python",
   "name": "python3"
  },
  "language_info": {
   "codemirror_mode": {
    "name": "ipython",
    "version": 3
   },
   "file_extension": ".py",
   "mimetype": "text/x-python",
   "name": "python",
   "nbconvert_exporter": "python",
   "pygments_lexer": "ipython3",
   "version": "3.10.10"
  }
 },
 "nbformat": 4,
 "nbformat_minor": 5
}
