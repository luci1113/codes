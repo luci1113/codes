{
 "cells": [
  {
   "cell_type": "code",
   "execution_count": 11,
   "id": "90d823ef-62d1-448c-a922-4f603a865701",
   "metadata": {},
   "outputs": [],
   "source": [
    "import pandas as pd\n",
    "import numpy as np\n",
    "\n",
    "# Define the number of rows\n",
    "num_rows = 7043\n",
    "\n",
    "# Create a dictionary to store data\n",
    "data = {\n",
    "    'CustomerID': range(1, num_rows + 1),\n",
    "    'Gender': np.random.choice(['Male', 'Female'], size=num_rows),\n",
    "    'SeniorCitizen': np.random.choice([0, 1], size=num_rows),\n",
    "    'Partner': np.random.choice(['Yes', 'No'], size=num_rows),\n",
    "    'Dependents': np.random.choice(['Yes', 'No'], size=num_rows),\n",
    "    'Tenure': np.random.randint(1, 72, size=num_rows),  # Varying tenure from 1 to 72 months\n",
    "    'PhoneService': np.random.choice(['Yes', 'No'], size=num_rows),\n",
    "    'MultipleLines': np.random.choice(['No', 'Yes', 'No phone service'], size=num_rows),\n",
    "    'InternetService': np.random.choice(['DSL', 'Fiber optic', 'No'], size=num_rows),\n",
    "    'OnlineSecurity': np.random.choice(['Yes', 'No', 'No internet service'], size=num_rows),\n",
    "    'OnlineBackup': np.random.choice(['Yes', 'No', 'No internet service'], size=num_rows),\n",
    "    'DeviceProtection': np.random.choice(['Yes', 'No', 'No internet service'], size=num_rows),\n",
    "    'TechSupport': np.random.choice(['Yes', 'No', 'No internet service'], size=num_rows),\n",
    "    'StreamingTV': np.random.choice(['Yes', 'No', 'No internet service'], size=num_rows),\n",
    "    'StreamingMovies': np.random.choice(['Yes', 'No', 'No internet service'], size=num_rows),\n",
    "    'Contract': np.random.choice(['Month-to-Month', 'One Year', 'Two Year'], size=num_rows),\n",
    "    'PaperlessBilling': np.random.choice(['Yes', 'No'], size=num_rows),\n",
    "    'PaymentMethod': np.random.choice(['Electronic check', 'Mailed check', 'Bank transfer (automatic)', 'Credit card (automatic)'], size=num_rows),\n",
    "    'MonthlyCharges': np.random.uniform(20, 120, size=num_rows),  # Varying monthly charges\n",
    "    'TotalCharges': np.random.uniform(100, 8000, size=num_rows),  # Varying total charges\n",
    "    'Churn': np.random.choice([0, 1], size=num_rows)  # 0 for not churned, 1 for churned\n",
    "}\n",
    "\n",
    "# Create a DataFrame\n",
    "df = pd.DataFrame(data)\n",
    "\n",
    "# Introduce some duplicate rows\n",
    "num_duplicates = 50\n",
    "duplicate_rows = df.sample(n=num_duplicates)\n",
    "df = pd.concat([df, duplicate_rows], ignore_index=True)\n",
    "\n",
    "# Introduce some outliers in 'MonthlyCharges' column\n",
    "num_outliers = 10\n",
    "outliers = np.random.choice(df.index, num_outliers, replace=False)\n",
    "df.loc[outliers, 'MonthlyCharges'] = df['MonthlyCharges'].max() + np.random.uniform(50, 200, num_outliers)\n",
    "\n",
    "# Export to CSV\n",
    "df.to_csv(\"Telecom_Customer_Churn.csv\", index=False)\n"
   ]
  },
  {
   "cell_type": "code",
   "execution_count": 12,
   "id": "0a495a4d-51e0-4ced-a464-94b564f41dcc",
   "metadata": {},
   "outputs": [],
   "source": [
    "import pandas as pd\n",
    "from sklearn.model_selection import train_test_split\n",
    "from sklearn import metrics"
   ]
  },
  {
   "cell_type": "code",
   "execution_count": 13,
   "id": "d8428d9e-8ac4-4bbd-b790-c9ffd0fe69b3",
   "metadata": {},
   "outputs": [
    {
     "name": "stdout",
     "output_type": "stream",
     "text": [
      "RangeIndex(start=0, stop=7093, step=1)\n"
     ]
    }
   ],
   "source": [
    "data=pd.read_csv(\"Telecom_Customer_Churn.csv\")\n",
    "print(data.index)"
   ]
  },
  {
   "cell_type": "code",
   "execution_count": 15,
   "id": "f4aecfb9-71b8-46af-b953-896a2c92c5fa",
   "metadata": {},
   "outputs": [
    {
     "name": "stdout",
     "output_type": "stream",
     "text": [
      "Index(['CustomerID', 'Gender', 'SeniorCitizen', 'Partner', 'Dependents',\n",
      "       'Tenure', 'PhoneService', 'MultipleLines', 'InternetService',\n",
      "       'OnlineSecurity', 'OnlineBackup', 'DeviceProtection', 'TechSupport',\n",
      "       'StreamingTV', 'StreamingMovies', 'Contract', 'PaperlessBilling',\n",
      "       'PaymentMethod', 'MonthlyCharges', 'TotalCharges', 'Churn'],\n",
      "      dtype='object')\n"
     ]
    }
   ],
   "source": [
    "print(data.columns)"
   ]
  },
  {
   "cell_type": "code",
   "execution_count": 16,
   "id": "0b465692-cc2a-4838-b510-9e446b27d792",
   "metadata": {},
   "outputs": [
    {
     "name": "stdout",
     "output_type": "stream",
     "text": [
      "   CustomerID  Gender  SeniorCitizen Partner Dependents  Tenure PhoneService  \\\n",
      "0           1    Male              1      No         No      60          Yes   \n",
      "1           2  Female              1     Yes         No       9          Yes   \n",
      "2           3    Male              0     Yes         No      38           No   \n",
      "3           4  Female              0     Yes        Yes      65           No   \n",
      "4           5    Male              1      No         No      42           No   \n",
      "\n",
      "      MultipleLines InternetService       OnlineSecurity  ...  \\\n",
      "0                No     Fiber optic                  Yes  ...   \n",
      "1  No phone service     Fiber optic  No internet service  ...   \n",
      "2               Yes     Fiber optic                   No  ...   \n",
      "3  No phone service             DSL  No internet service  ...   \n",
      "4  No phone service             DSL                  Yes  ...   \n",
      "\n",
      "      DeviceProtection          TechSupport          StreamingTV  \\\n",
      "0                   No                  Yes                   No   \n",
      "1  No internet service  No internet service  No internet service   \n",
      "2                   No                  Yes                   No   \n",
      "3  No internet service                   No                   No   \n",
      "4                   No                  Yes                   No   \n",
      "\n",
      "  StreamingMovies        Contract PaperlessBilling              PaymentMethod  \\\n",
      "0             Yes  Month-to-Month               No               Mailed check   \n",
      "1              No  Month-to-Month              Yes  Bank transfer (automatic)   \n",
      "2             Yes        One Year               No    Credit card (automatic)   \n",
      "3              No        One Year              Yes    Credit card (automatic)   \n",
      "4              No        Two Year              Yes    Credit card (automatic)   \n",
      "\n",
      "  MonthlyCharges  TotalCharges  Churn  \n",
      "0      23.223458   4946.605974      1  \n",
      "1      36.477819   2020.126780      0  \n",
      "2      71.917808   1396.659553      1  \n",
      "3     102.485179   4520.158132      1  \n",
      "4      53.325257   1301.732725      0  \n",
      "\n",
      "[5 rows x 21 columns]\n"
     ]
    }
   ],
   "source": [
    "print(data.head())"
   ]
  },
  {
   "cell_type": "code",
   "execution_count": 17,
   "id": "2a3312b4-c790-4f7d-9aab-fda29b44c0d0",
   "metadata": {},
   "outputs": [
    {
     "name": "stdout",
     "output_type": "stream",
     "text": [
      "Number of rows before removing duplicates: 7093\n"
     ]
    }
   ],
   "source": [
    "print(\"Number of rows before removing duplicates:\",len(data))"
   ]
  },
  {
   "cell_type": "code",
   "execution_count": 18,
   "id": "25c172fc-4dbe-47c4-a97f-dea61c49f77d",
   "metadata": {},
   "outputs": [],
   "source": [
    "data_cleaned=data.drop_duplicates()"
   ]
  },
  {
   "cell_type": "code",
   "execution_count": 19,
   "id": "7c0d4c80-2d09-47ee-b1de-0c8cdc9b03c9",
   "metadata": {},
   "outputs": [
    {
     "name": "stdout",
     "output_type": "stream",
     "text": [
      "Number of rows after removing duplicates: 7043\n"
     ]
    }
   ],
   "source": [
    "print(\"Number of rows after removing duplicates:\",len(data_cleaned))"
   ]
  },
  {
   "cell_type": "code",
   "execution_count": 23,
   "id": "f16eeaad-7ed0-4bd5-8e1b-fa668ae00eb7",
   "metadata": {},
   "outputs": [
    {
     "data": {
      "text/plain": [
       "CustomerID          0\n",
       "Gender              0\n",
       "SeniorCitizen       0\n",
       "Partner             0\n",
       "Dependents          0\n",
       "Tenure              0\n",
       "PhoneService        0\n",
       "MultipleLines       0\n",
       "InternetService     0\n",
       "OnlineSecurity      0\n",
       "OnlineBackup        0\n",
       "DeviceProtection    0\n",
       "TechSupport         0\n",
       "StreamingTV         0\n",
       "StreamingMovies     0\n",
       "Contract            0\n",
       "PaperlessBilling    0\n",
       "PaymentMethod       0\n",
       "MonthlyCharges      0\n",
       "TotalCharges        0\n",
       "Churn               0\n",
       "dtype: int64"
      ]
     },
     "execution_count": 23,
     "metadata": {},
     "output_type": "execute_result"
    }
   ],
   "source": [
    "data.isnull().sum()"
   ]
  },
  {
   "cell_type": "code",
   "execution_count": 24,
   "id": "d4ea7d6c-61b7-44c7-b4a4-8a945714823b",
   "metadata": {},
   "outputs": [
    {
     "name": "stdout",
     "output_type": "stream",
     "text": [
      "[ 101.00367436  101.5448489   101.86045316 ... 7998.9791295  7999.37057875\n",
      " 7999.53016364] [1 1 1 ... 1 1 1]\n"
     ]
    }
   ],
   "source": [
    "unique,counts=np.unique(data['TotalCharges'],return_counts=True)\n",
    "print(unique,counts)"
   ]
  },
  {
   "cell_type": "code",
   "execution_count": 28,
   "id": "148fe082-4e58-4f22-a2ea-f9e64a3fffce",
   "metadata": {},
   "outputs": [],
   "source": [
    "import seaborn as sns\n",
    "\n",
    "X=data.drop(\"MonthlyCharges\",axis=1)\n",
    "y=data[\"MonthlyCharges\"]\n",
    "\n",
    "X_train,X_test,y_train,y_test,=train_test_split(X,y,test_size=0.2,random_state=42)"
   ]
  },
  {
   "cell_type": "code",
   "execution_count": 29,
   "id": "0ebc4054-78d7-4221-97d6-6555704a64b3",
   "metadata": {},
   "outputs": [
    {
     "data": {
      "text/plain": [
       "(5674, 20)"
      ]
     },
     "execution_count": 29,
     "metadata": {},
     "output_type": "execute_result"
    }
   ],
   "source": [
    "X_train.shape"
   ]
  },
  {
   "cell_type": "code",
   "execution_count": 30,
   "id": "6843ead8-e8f2-4d23-9b50-48eb7d2fc608",
   "metadata": {},
   "outputs": [
    {
     "data": {
      "text/plain": [
       "(5674,)"
      ]
     },
     "execution_count": 30,
     "metadata": {},
     "output_type": "execute_result"
    }
   ],
   "source": [
    "y_train.shape"
   ]
  },
  {
   "cell_type": "code",
   "execution_count": 31,
   "id": "4bd9eb89-f444-415c-954d-585fdd746f8d",
   "metadata": {},
   "outputs": [
    {
     "data": {
      "text/plain": [
       "(1419, 20)"
      ]
     },
     "execution_count": 31,
     "metadata": {},
     "output_type": "execute_result"
    }
   ],
   "source": [
    "X_test.shape"
   ]
  },
  {
   "cell_type": "code",
   "execution_count": 32,
   "id": "ed71e904-0d01-48f2-ad23-378b169389d9",
   "metadata": {},
   "outputs": [
    {
     "data": {
      "text/plain": [
       "(1419,)"
      ]
     },
     "execution_count": 32,
     "metadata": {},
     "output_type": "execute_result"
    }
   ],
   "source": [
    "y_test.shape"
   ]
  },
  {
   "cell_type": "code",
   "execution_count": 33,
   "id": "40fc17da-6ca4-48c2-a69c-b691e39f023b",
   "metadata": {},
   "outputs": [],
   "source": [
    "data.to_csv(\"Cleaned_data_telecom.csv\",index=False)"
   ]
  },
  {
   "cell_type": "code",
   "execution_count": null,
   "id": "89859e6f-2151-440a-9239-253bf819e2b4",
   "metadata": {},
   "outputs": [],
   "source": []
  }
 ],
 "metadata": {
  "kernelspec": {
   "display_name": "Python 3 (ipykernel)",
   "language": "python",
   "name": "python3"
  },
  "language_info": {
   "codemirror_mode": {
    "name": "ipython",
    "version": 3
   },
   "file_extension": ".py",
   "mimetype": "text/x-python",
   "name": "python",
   "nbconvert_exporter": "python",
   "pygments_lexer": "ipython3",
   "version": "3.10.10"
  }
 },
 "nbformat": 4,
 "nbformat_minor": 5
}
