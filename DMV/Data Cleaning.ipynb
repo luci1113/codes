{
 "cells": [
  {
   "cell_type": "markdown",
   "id": "c88b8e0c-cf3a-4538-8a10-63c49c69e5da",
   "metadata": {},
   "source": [
    "- cust_id(1,301)\n",
    "- age(18,65)\n",
    "- gender(Male,female,M,F,male,Female)\n",
    "- Contract_lenght(12,60,12)\n",
    "- total_charges(100,2000)\n",
    "- monthly_Charges(20,200)\n",
    "- data_usage_GB(1,100)\n",
    "- churn(0,1) 0 - No churn ,1- churn"
   ]
  },
  {
   "cell_type": "code",
   "execution_count": 1,
   "id": "37dac5b0-5446-41d7-b881-fe92e9e2b2bf",
   "metadata": {},
   "outputs": [],
   "source": [
    "import pandas as pd\n",
    "import random as rd\n",
    "import numpy as np"
   ]
  },
  {
   "cell_type": "code",
   "execution_count": 20,
   "id": "ee6706af-ba60-4547-a753-aadbcdd91fd3",
   "metadata": {},
   "outputs": [],
   "source": [
    "data ={\n",
    "    'Cust_id':range(1,301),\n",
    "    'Age':[rd.randint(18,65) for _ in range(300)],\n",
    "    'Gender':[rd.choice(['Male','female','M','F','Female','male']) for _ in range(300)],\n",
    "    'Contract_length':[rd.choice([12,60]) for _ in range(300)],\n",
    "    'Total_charges':[rd.uniform(100,2000) for _ in range(300)],\n",
    "    'Monthly_charges':[rd.uniform(20,200) for _ in range(300)],\n",
    "    'Data_usage_GB':[rd.uniform(1,100) for _ in range(300)],\n",
    "    'Churn':[rd.choice([0,1]) for _ in range(300)]\n",
    "}\n",
    "    "
   ]
  },
  {
   "cell_type": "code",
   "execution_count": 2,
   "id": "e007a0d8-35ec-495b-ac24-1ac318adf4f6",
   "metadata": {},
   "outputs": [
    {
     "ename": "NameError",
     "evalue": "name 'data' is not defined",
     "output_type": "error",
     "traceback": [
      "\u001b[1;31m---------------------------------------------------------------------------\u001b[0m",
      "\u001b[1;31mNameError\u001b[0m                                 Traceback (most recent call last)",
      "Cell \u001b[1;32mIn[2], line 1\u001b[0m\n\u001b[1;32m----> 1\u001b[0m df\u001b[38;5;241m=\u001b[39mpd\u001b[38;5;241m.\u001b[39mDataFrame(\u001b[43mdata\u001b[49m)\n",
      "\u001b[1;31mNameError\u001b[0m: name 'data' is not defined"
     ]
    }
   ],
   "source": [
    "df=pd.DataFrame(data)"
   ]
  },
  {
   "cell_type": "code",
   "execution_count": 19,
   "id": "3e453dea-e3a3-4559-9c22-aa9cd2c289d2",
   "metadata": {},
   "outputs": [],
   "source": [
    "df.to_csv(\"./dummy data set/telecom_cust_chrun1.csv\",index=False)"
   ]
  },
  {
   "cell_type": "code",
   "execution_count": 3,
   "id": "9e2dcab1-5065-48e3-91f4-a23b36ecd9b0",
   "metadata": {},
   "outputs": [
    {
     "data": {
      "text/html": [
       "<div>\n",
       "<style scoped>\n",
       "    .dataframe tbody tr th:only-of-type {\n",
       "        vertical-align: middle;\n",
       "    }\n",
       "\n",
       "    .dataframe tbody tr th {\n",
       "        vertical-align: top;\n",
       "    }\n",
       "\n",
       "    .dataframe thead th {\n",
       "        text-align: right;\n",
       "    }\n",
       "</style>\n",
       "<table border=\"1\" class=\"dataframe\">\n",
       "  <thead>\n",
       "    <tr style=\"text-align: right;\">\n",
       "      <th></th>\n",
       "      <th>Cust_id</th>\n",
       "      <th>Age</th>\n",
       "      <th>Gender</th>\n",
       "      <th>Contract_length</th>\n",
       "      <th>Total_charges</th>\n",
       "      <th>Monthly_charges</th>\n",
       "      <th>Data_usage_GB</th>\n",
       "      <th>Churn</th>\n",
       "    </tr>\n",
       "  </thead>\n",
       "  <tbody>\n",
       "    <tr>\n",
       "      <th>0</th>\n",
       "      <td>1</td>\n",
       "      <td>36</td>\n",
       "      <td>female</td>\n",
       "      <td>60</td>\n",
       "      <td>1695.665395</td>\n",
       "      <td>56.747017</td>\n",
       "      <td>29.638648</td>\n",
       "      <td>0</td>\n",
       "    </tr>\n",
       "    <tr>\n",
       "      <th>1</th>\n",
       "      <td>2</td>\n",
       "      <td>34</td>\n",
       "      <td>Male</td>\n",
       "      <td>12</td>\n",
       "      <td>1668.947625</td>\n",
       "      <td>97.141355</td>\n",
       "      <td>45.416956</td>\n",
       "      <td>0</td>\n",
       "    </tr>\n",
       "    <tr>\n",
       "      <th>2</th>\n",
       "      <td>3</td>\n",
       "      <td>27</td>\n",
       "      <td>F</td>\n",
       "      <td>12</td>\n",
       "      <td>1215.841822</td>\n",
       "      <td>112.934783</td>\n",
       "      <td>26.320321</td>\n",
       "      <td>1</td>\n",
       "    </tr>\n",
       "    <tr>\n",
       "      <th>3</th>\n",
       "      <td>4</td>\n",
       "      <td>63</td>\n",
       "      <td>F</td>\n",
       "      <td>12</td>\n",
       "      <td>841.448264</td>\n",
       "      <td>54.266974</td>\n",
       "      <td>91.466038</td>\n",
       "      <td>1</td>\n",
       "    </tr>\n",
       "    <tr>\n",
       "      <th>4</th>\n",
       "      <td>5</td>\n",
       "      <td>62</td>\n",
       "      <td>Female</td>\n",
       "      <td>60</td>\n",
       "      <td>1573.487738</td>\n",
       "      <td>75.760426</td>\n",
       "      <td>75.869133</td>\n",
       "      <td>1</td>\n",
       "    </tr>\n",
       "  </tbody>\n",
       "</table>\n",
       "</div>"
      ],
      "text/plain": [
       "   Cust_id  Age  Gender  Contract_length  Total_charges  Monthly_charges  \\\n",
       "0        1   36  female               60    1695.665395        56.747017   \n",
       "1        2   34    Male               12    1668.947625        97.141355   \n",
       "2        3   27       F               12    1215.841822       112.934783   \n",
       "3        4   63       F               12     841.448264        54.266974   \n",
       "4        5   62  Female               60    1573.487738        75.760426   \n",
       "\n",
       "   Data_usage_GB  Churn  \n",
       "0      29.638648      0  \n",
       "1      45.416956      0  \n",
       "2      26.320321      1  \n",
       "3      91.466038      1  \n",
       "4      75.869133      1  "
      ]
     },
     "execution_count": 3,
     "metadata": {},
     "output_type": "execute_result"
    }
   ],
   "source": [
    "df=pd.read_csv(\"./dummy data set/telecom_cust_chrun1.csv\")\n",
    "df.head()"
   ]
  },
  {
   "cell_type": "code",
   "execution_count": 4,
   "id": "6277986c-cc17-47f3-ba48-5e41ccb8ef30",
   "metadata": {
    "scrolled": true
   },
   "outputs": [
    {
     "name": "stdout",
     "output_type": "stream",
     "text": [
      "   Cust_id  Age  Gender  Contract_length  Total_charges  Monthly_charges  \\\n",
      "0        1   36  female               60    1695.665395        56.747017   \n",
      "1        2   34    Male               12    1668.947625        97.141355   \n",
      "2        3   27       F               12    1215.841822       112.934783   \n",
      "3        4   63       F               12     841.448264        54.266974   \n",
      "4        5   62  Female               60    1573.487738        75.760426   \n",
      "\n",
      "   Data_usage_GB  Churn  \n",
      "0      29.638648      0  \n",
      "1      45.416956      0  \n",
      "2      26.320321      1  \n",
      "3      91.466038      1  \n",
      "4      75.869133      1  \n",
      "<class 'pandas.core.frame.DataFrame'>\n",
      "RangeIndex: 300 entries, 0 to 299\n",
      "Data columns (total 8 columns):\n",
      " #   Column           Non-Null Count  Dtype  \n",
      "---  ------           --------------  -----  \n",
      " 0   Cust_id          300 non-null    int64  \n",
      " 1   Age              300 non-null    int64  \n",
      " 2   Gender           300 non-null    object \n",
      " 3   Contract_length  300 non-null    int64  \n",
      " 4   Total_charges    300 non-null    float64\n",
      " 5   Monthly_charges  300 non-null    float64\n",
      " 6   Data_usage_GB    300 non-null    float64\n",
      " 7   Churn            300 non-null    int64  \n",
      "dtypes: float64(3), int64(4), object(1)\n",
      "memory usage: 18.9+ KB\n",
      "None\n",
      "          Cust_id         Age  Contract_length  Total_charges  \\\n",
      "count  300.000000  300.000000         300.0000     300.000000   \n",
      "mean   150.500000   42.563333          36.0000    1004.747954   \n",
      "std     86.746758   13.826178          24.0401     549.965683   \n",
      "min      1.000000   18.000000          12.0000     102.391298   \n",
      "25%     75.750000   31.750000          12.0000     526.993181   \n",
      "50%    150.500000   43.000000          36.0000    1000.054701   \n",
      "75%    225.250000   55.000000          60.0000    1509.453913   \n",
      "max    300.000000   65.000000          60.0000    1999.450259   \n",
      "\n",
      "       Monthly_charges  Data_usage_GB       Churn  \n",
      "count       300.000000     300.000000  300.000000  \n",
      "mean        111.672473      51.175888    0.416667  \n",
      "std          49.879150      28.214692    0.493830  \n",
      "min          20.041377       1.361409    0.000000  \n",
      "25%          70.433870      25.795681    0.000000  \n",
      "50%         113.777694      52.563992    0.000000  \n",
      "75%         153.566475      76.238431    1.000000  \n",
      "max         199.332860      99.928951    1.000000  \n",
      "Gender\n",
      "female    56\n",
      "Male      54\n",
      "F         51\n",
      "male      49\n",
      "Female    45\n",
      "M         45\n",
      "Name: count, dtype: int64\n",
      "Churn\n",
      "0    175\n",
      "1    125\n",
      "Name: count, dtype: int64\n"
     ]
    }
   ],
   "source": [
    "print(df.head())\n",
    "print(df.info())\n",
    "print(df.describe())\n",
    "print(df['Gender'].value_counts())\n",
    "print(df['Churn'].value_counts())\n"
   ]
  },
  {
   "cell_type": "code",
   "execution_count": 5,
   "id": "ebb2ae82-331f-4ea2-81bd-36c5d2197d4a",
   "metadata": {},
   "outputs": [
    {
     "data": {
      "text/plain": [
       "Cust_id            0\n",
       "Age                0\n",
       "Gender             0\n",
       "Contract_length    0\n",
       "Total_charges      0\n",
       "Monthly_charges    0\n",
       "Data_usage_GB      0\n",
       "Churn              0\n",
       "dtype: int64"
      ]
     },
     "execution_count": 5,
     "metadata": {},
     "output_type": "execute_result"
    }
   ],
   "source": [
    "df.isnull().sum()"
   ]
  },
  {
   "cell_type": "markdown",
   "id": "2a4fc7a6-9ae3-4cf2-87ce-4dbd91e771e4",
   "metadata": {},
   "source": [
    "# use this code if need to drop values "
   ]
  },
  {
   "cell_type": "code",
   "execution_count": 6,
   "id": "467dd118-9f7b-4245-b6da-93d6fff8afef",
   "metadata": {},
   "outputs": [
    {
     "name": "stdout",
     "output_type": "stream",
     "text": [
      "330\n"
     ]
    }
   ],
   "source": [
    "# introduce number of duplicate values \n",
    "df=pd.concat([df,df.sample(frac=0.1,replace=True)],ignore_index=True)\n",
    "print(len(df))"
   ]
  },
  {
   "cell_type": "code",
   "execution_count": 7,
   "id": "44911d19-f62e-4338-b9ed-df95bd9f94da",
   "metadata": {},
   "outputs": [
    {
     "name": "stdout",
     "output_type": "stream",
     "text": [
      "300\n"
     ]
    }
   ],
   "source": [
    "df.drop_duplicates(inplace=True)\n",
    "print(len(df))"
   ]
  },
  {
   "cell_type": "markdown",
   "id": "fb2015c5-1672-452f-b8ee-f499e69001f6",
   "metadata": {},
   "source": [
    "# 4. Remove any duplicate records from the dataset."
   ]
  },
  {
   "cell_type": "code",
   "execution_count": 25,
   "id": "eb3a713f-bc05-4682-a888-082ece5aaf23",
   "metadata": {},
   "outputs": [
    {
     "name": "stdout",
     "output_type": "stream",
     "text": [
      "Number of rows before removing duplicates: 330\n",
      "Number of rows after removing duplicates: 300\n"
     ]
    }
   ],
   "source": [
    "# Introduce duplicate records\n",
    "df = pd.concat([df, df.sample(frac=0.1, replace=True)], ignore_index=True)\n",
    "\n",
    "# Check the number of rows before removing duplicates\n",
    "print(\"Number of rows before removing duplicates:\", len(df))\n",
    "\n",
    "# Remove duplicate records\n",
    "df.drop_duplicates(inplace=True)\n",
    "\n",
    "# Check the number of rows after removing duplicates\n",
    "print(\"Number of rows after removing duplicates:\", len(df))"
   ]
  },
  {
   "cell_type": "markdown",
   "id": "163404e9-0558-46c0-ad6f-29832a53ea47",
   "metadata": {},
   "source": [
    "# Check for inconsistent data, such as inconsistent formatting or spelling variations, and standardize it."
   ]
  },
  {
   "cell_type": "code",
   "execution_count": 10,
   "id": "f1bc63f8-993d-431c-81ba-8e04f6fe3a5a",
   "metadata": {},
   "outputs": [
    {
     "name": "stdout",
     "output_type": "stream",
     "text": [
      "Unique values in 'Gender' column: ['Female' 'Male']\n"
     ]
    }
   ],
   "source": [
    "df['Gender']=df['Gender'].str.lower()\n",
    "df['Gender']=df['Gender'].replace({'M':'Male','F':'Female','female':'Female','male':'Male','m':'Male','f':'Female'})\n",
    "print(\"Unique values in 'Gender' column:\", df['Gender'].unique())"
   ]
  },
  {
   "cell_type": "markdown",
   "id": "40e9be48-1fa4-43d0-9f09-2c92a72a6a4e",
   "metadata": {},
   "source": [
    "# Convert columns to the correct data types as needed."
   ]
  },
  {
   "cell_type": "code",
   "execution_count": 13,
   "id": "2ffbdcc8-be02-474a-bcd1-fdcc94a532f1",
   "metadata": {},
   "outputs": [
    {
     "name": "stdout",
     "output_type": "stream",
     "text": [
      "Cust_id              int64\n",
      "Age                  int32\n",
      "Gender              object\n",
      "Contract_length      int64\n",
      "Total_charges      float64\n",
      "Monthly_charges    float64\n",
      "Data_usage_GB      float64\n",
      "Churn                int64\n",
      "dtype: object\n"
     ]
    }
   ],
   "source": [
    "df['Age'] = df['Age'].astype(int)  # Convert 'Age' to integer\n",
    "df['Total_charges'] = df['Total_charges'].astype(float)  # Convert 'Total_Charges' to float\n",
    "df['Data_usage_GB'] = df['Data_usage_GB'].astype(float)  # Convert 'Data_Usage_GB' to float\n",
    "\n",
    "# Check the data types of each column\n",
    "print(df.dtypes)"
   ]
  },
  {
   "cell_type": "markdown",
   "id": "ba133e78-e2b0-413d-8170-29cf0e88cd48",
   "metadata": {},
   "source": [
    "# Identify and handle outliers in the data."
   ]
  },
  {
   "cell_type": "code",
   "execution_count": 21,
   "id": "8b285541-2b4b-4068-8d35-345ee06e5564",
   "metadata": {},
   "outputs": [
    {
     "name": "stdout",
     "output_type": "stream",
     "text": [
      "Number of rows before handling outliers: 8\n",
      "Number of rows after handling outliers: 300\n"
     ]
    }
   ],
   "source": [
    "from scipy import stats\n",
    "z_scores = np.abs(stats.zscore(df['Monthly_charges']))\n",
    "threshold = 3\n",
    "\n",
    "# Detect outliers\n",
    "outliers = df[z_scores > threshold]\n",
    "\n",
    "# Remove outliers\n",
    "df = df[z_scores <= threshold]\n",
    "\n",
    "# Check the number of rows before and after handling outliers\n",
    "print(\"Number of rows before handling outliers:\", len(data))\n",
    "print(\"Number of rows after handling outliers:\", len(df))"
   ]
  },
  {
   "cell_type": "markdown",
   "id": "e2798306-b375-4f01-ab2b-d9dd3a5876ed",
   "metadata": {},
   "source": [
    "# Perform feature engineering, creating new features that may be relevant to predicting customer churn."
   ]
  },
  {
   "cell_type": "code",
   "execution_count": 23,
   "id": "2237355e-62ed-4aea-99b8-de3f28f1710d",
   "metadata": {},
   "outputs": [
    {
     "name": "stdout",
     "output_type": "stream",
     "text": [
      "   Cust_id  Age  Gender  Contract_length  Total_charges  Monthly_charges  \\\n",
      "0        1   36  Female               60    1695.665395        56.747017   \n",
      "1        2   34    Male               12    1668.947625        97.141355   \n",
      "2        3   27  Female               12    1215.841822       112.934783   \n",
      "3        4   63  Female               12     841.448264        54.266974   \n",
      "4        5   62  Female               60    1573.487738        75.760426   \n",
      "\n",
      "   Data_usage_GB  Churn  Data_to_Monthly_Ratio  Long_Term_Contract Age_Group  \\\n",
      "0      29.638648      0               0.522294                True     30-44   \n",
      "1      45.416956      0               0.467535               False     30-44   \n",
      "2      26.320321      1               0.233058               False     18-29   \n",
      "3      91.466038      1               1.685483               False       60+   \n",
      "4      75.869133      1               1.001435                True       60+   \n",
      "\n",
      "   Total_Charges_Per_Year  \n",
      "0              339.133079  \n",
      "1             1668.947625  \n",
      "2             1215.841822  \n",
      "3              841.448264  \n",
      "4              314.697548  \n"
     ]
    }
   ],
   "source": [
    "df['Data_to_Monthly_Ratio'] = df['Data_usage_GB'] / df['Monthly_charges']\n",
    "\n",
    "# 2. Create a feature that indicates whether the customer has a long-term contract (e.g., 24 months or more).\n",
    "df['Long_Term_Contract'] = df['Contract_length'] >= 24\n",
    "\n",
    "# 3. Create a feature that groups 'Age' into different age ranges.\n",
    "age_bins = [18, 30, 45, 60, 100]\n",
    "age_labels = ['18-29', '30-44', '45-59', '60+']\n",
    "df['Age_Group'] = pd.cut(df['Age'], bins=age_bins, labels=age_labels)\n",
    "\n",
    "# 4. Create a feature for the total charges per year.\n",
    "df['Total_Charges_Per_Year'] = (df['Total_charges'] / df['Contract_length']) * 12\n",
    "\n",
    "# Display the updated DataFrame with new features\n",
    "print(df.head())"
   ]
  },
  {
   "cell_type": "code",
   "execution_count": null,
   "id": "fe594bd9-f2e4-4554-b98f-0fe70f572794",
   "metadata": {},
   "outputs": [],
   "source": []
  }
 ],
 "metadata": {
  "kernelspec": {
   "display_name": "Python 3 (ipykernel)",
   "language": "python",
   "name": "python3"
  },
  "language_info": {
   "codemirror_mode": {
    "name": "ipython",
    "version": 3
   },
   "file_extension": ".py",
   "mimetype": "text/x-python",
   "name": "python",
   "nbconvert_exporter": "python",
   "pygments_lexer": "ipython3",
   "version": "3.10.10"
  }
 },
 "nbformat": 4,
 "nbformat_minor": 5
}
