{
 "cells": [
  {
   "cell_type": "code",
   "execution_count": 8,
   "id": "6aa4b0fc-a26c-4907-91c3-fec8adcad859",
   "metadata": {},
   "outputs": [],
   "source": [
    "import pandas as pd\n",
    "import numpy as np\n",
    "import random\n",
    "from datetime import datetime, timedelta"
   ]
  },
  {
   "cell_type": "code",
   "execution_count": 12,
   "id": "be55a8d8-d883-4da6-b91b-74290a120524",
   "metadata": {},
   "outputs": [],
   "source": [
    "# Define the date range for the dataset\n",
    "start_date = datetime(2010, 1, 1)\n",
    "end_date = datetime(2023, 12, 31)\n",
    "\n",
    "# Define regions and product categories\n",
    "regions = ['North', 'South', 'East', 'West']\n",
    "categories = ['Electronics', 'Clothing', 'Furniture', 'Groceries']\n",
    "\n",
    "# Generate random data\n",
    "data = []\n",
    "\n",
    "for _ in range(1000):\n",
    "    date = start_date + timedelta(days=random.randint(0, (end_date - start_date).days))\n",
    "    region = random.choice(regions)\n",
    "    category = random.choice(categories)\n",
    "    quantity = random.randint(1, 100)\n",
    "    price = random.uniform(10, 100)\n",
    "    sales_amount = quantity * price\n",
    "    data.append([date, region, category, quantity, sales_amount])\n",
    "\n",
    "# Create a DataFrame from the list of data\n",
    "df = pd.DataFrame(data, columns=['Transaction_Date', 'Region', 'Product_Category', 'Quantity_Sold', 'Sales_Amount'])\n"
   ]
  },
  {
   "cell_type": "code",
   "execution_count": 13,
   "id": "d6ac33ff-dad6-4dc2-a960-0ad36139d8f0",
   "metadata": {},
   "outputs": [],
   "source": [
    "df.to_csv('Retail_Sales_Data.csv', index=False)"
   ]
  },
  {
   "cell_type": "code",
   "execution_count": 14,
   "id": "b8184138-2a5e-43ef-9e39-790a2d983d36",
   "metadata": {},
   "outputs": [
    {
     "name": "stdout",
     "output_type": "stream",
     "text": [
      "  Transaction_Date Region Product_Category  Quantity_Sold  Sales_Amount\n",
      "0       2021-06-04  South        Furniture             88   6202.003030\n",
      "1       2016-12-29  South        Groceries             26    796.224257\n",
      "2       2023-07-18   East         Clothing             24   2093.148419\n",
      "3       2019-05-08  North        Furniture             89   6432.243290\n",
      "4       2011-12-26   East      Electronics             62   5494.908580\n"
     ]
    }
   ],
   "source": [
    "# Task 2: Explore the dataset\n",
    "print(df.head())  # Display the first few rows of the dataset"
   ]
  },
  {
   "cell_type": "code",
   "execution_count": 15,
   "id": "453ab13b-af36-4bd9-99fb-08f9922ffea3",
   "metadata": {},
   "outputs": [],
   "source": [
    "# Task 4: Group sales data by region and calculate total sales amount for each region\n",
    "region_sales = df.groupby('Region')['Sales_Amount'].sum()\n"
   ]
  },
  {
   "cell_type": "code",
   "execution_count": null,
   "id": "163543a3-d3be-49ab-955e-f5978903581d",
   "metadata": {},
   "outputs": [],
   "source": []
  }
 ],
 "metadata": {
  "kernelspec": {
   "display_name": "Python 3 (ipykernel)",
   "language": "python",
   "name": "python3"
  },
  "language_info": {
   "codemirror_mode": {
    "name": "ipython",
    "version": 3
   },
   "file_extension": ".py",
   "mimetype": "text/x-python",
   "name": "python",
   "nbconvert_exporter": "python",
   "pygments_lexer": "ipython3",
   "version": "3.10.10"
  }
 },
 "nbformat": 4,
 "nbformat_minor": 5
}
