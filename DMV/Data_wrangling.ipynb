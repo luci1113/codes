{
 "cells": [
  {
   "cell_type": "code",
   "execution_count": 1,
   "id": "511e80f0-3dde-4bfb-aad0-8ccdea270c82",
   "metadata": {},
   "outputs": [],
   "source": [
    "import pandas as pd\n",
    "import numpy as np\n",
    "\n",
    "# Define the number of samples\n",
    "num_samples = 200\n",
    "\n",
    "# Create a list of neighborhood options\n",
    "neighborhoods = ['East', 'West', 'North', 'South']\n",
    "\n",
    "# Create a dictionary to store data\n",
    "data = {\n",
    "    'Home': [f'Home {i}' for i in range(1, num_samples + 1)],\n",
    "    'Price': np.random.randint(150000, 800000, size=num_samples),\n",
    "    'SqFt': np.random.randint(1000, 4000, size=num_samples),\n",
    "    'Bedrooms': np.random.randint(2, 6, size=num_samples),\n",
    "    'Bathrooms': np.random.randint(1, 4, size=num_samples),\n",
    "    'Offers': np.random.randint(0, 5, size=num_samples),\n",
    "    'Brick': np.random.choice([0, 1], size=num_samples),  # 0 for no brick, 1 for brick\n",
    "    'Neighborhood': np.random.choice(neighborhoods, size=num_samples),\n",
    "    'Churn': np.random.choice([0, 1], size=num_samples)  # 0 for not churned, 1 for churned\n",
    "}\n",
    "\n",
    "# Introduce duplicate values\n",
    "for _ in range(5):\n",
    "    idx = np.random.randint(0, num_samples)\n",
    "    data['Price'][idx] = data['Price'][idx - 1]\n",
    "    data['SqFt'][idx] = data['SqFt'][idx - 1]\n",
    "\n",
    "# Introduce outliers\n",
    "outlier_idx = np.random.choice(range(num_samples), size=10)\n",
    "data['Price'][outlier_idx] = np.random.randint(800000, 1000000, size=10)\n",
    "data['SqFt'][outlier_idx] = np.random.randint(4000, 6000, size=10)\n",
    "\n",
    "# Create a DataFrame\n",
    "df = pd.DataFrame(data)\n",
    "\n",
    "# Export to CSV\n",
    "df.to_csv(\"Home_Price.csv\", index=False)\n"
   ]
  },
  {
   "cell_type": "code",
   "execution_count": 17,
   "id": "4d9f97c1-9b60-4dcf-a40b-c4f460d82c71",
   "metadata": {},
   "outputs": [],
   "source": [
    "import pandas as pd\n",
    "import numpy as np\n",
    "import matplotlib\n",
    "import matplotlib.pyplot as plt\n",
    "\n"
   ]
  },
  {
   "cell_type": "code",
   "execution_count": 19,
   "id": "eead60a6-b5ac-420c-9b23-eff6081de32f",
   "metadata": {},
   "outputs": [
    {
     "data": {
      "text/html": [
       "<div>\n",
       "<style scoped>\n",
       "    .dataframe tbody tr th:only-of-type {\n",
       "        vertical-align: middle;\n",
       "    }\n",
       "\n",
       "    .dataframe tbody tr th {\n",
       "        vertical-align: top;\n",
       "    }\n",
       "\n",
       "    .dataframe thead th {\n",
       "        text-align: right;\n",
       "    }\n",
       "</style>\n",
       "<table border=\"1\" class=\"dataframe\">\n",
       "  <thead>\n",
       "    <tr style=\"text-align: right;\">\n",
       "      <th></th>\n",
       "      <th>Home</th>\n",
       "      <th>Price</th>\n",
       "      <th>SqFt</th>\n",
       "      <th>Bedrooms</th>\n",
       "      <th>Bathrooms</th>\n",
       "      <th>Offers</th>\n",
       "      <th>Brick</th>\n",
       "      <th>Neighborhood</th>\n",
       "      <th>Churn</th>\n",
       "    </tr>\n",
       "  </thead>\n",
       "  <tbody>\n",
       "    <tr>\n",
       "      <th>0</th>\n",
       "      <td>Home 1</td>\n",
       "      <td>154903</td>\n",
       "      <td>3874</td>\n",
       "      <td>4</td>\n",
       "      <td>1</td>\n",
       "      <td>1</td>\n",
       "      <td>1</td>\n",
       "      <td>East</td>\n",
       "      <td>0</td>\n",
       "    </tr>\n",
       "    <tr>\n",
       "      <th>1</th>\n",
       "      <td>Home 2</td>\n",
       "      <td>672116</td>\n",
       "      <td>3574</td>\n",
       "      <td>5</td>\n",
       "      <td>2</td>\n",
       "      <td>4</td>\n",
       "      <td>1</td>\n",
       "      <td>West</td>\n",
       "      <td>1</td>\n",
       "    </tr>\n",
       "    <tr>\n",
       "      <th>2</th>\n",
       "      <td>Home 3</td>\n",
       "      <td>788230</td>\n",
       "      <td>1118</td>\n",
       "      <td>4</td>\n",
       "      <td>1</td>\n",
       "      <td>0</td>\n",
       "      <td>1</td>\n",
       "      <td>West</td>\n",
       "      <td>1</td>\n",
       "    </tr>\n",
       "    <tr>\n",
       "      <th>3</th>\n",
       "      <td>Home 4</td>\n",
       "      <td>794331</td>\n",
       "      <td>3878</td>\n",
       "      <td>4</td>\n",
       "      <td>2</td>\n",
       "      <td>1</td>\n",
       "      <td>1</td>\n",
       "      <td>East</td>\n",
       "      <td>1</td>\n",
       "    </tr>\n",
       "    <tr>\n",
       "      <th>4</th>\n",
       "      <td>Home 5</td>\n",
       "      <td>314954</td>\n",
       "      <td>3436</td>\n",
       "      <td>3</td>\n",
       "      <td>1</td>\n",
       "      <td>1</td>\n",
       "      <td>0</td>\n",
       "      <td>South</td>\n",
       "      <td>1</td>\n",
       "    </tr>\n",
       "  </tbody>\n",
       "</table>\n",
       "</div>"
      ],
      "text/plain": [
       "     Home   Price  SqFt  Bedrooms  Bathrooms  Offers  Brick Neighborhood  \\\n",
       "0  Home 1  154903  3874         4          1       1      1         East   \n",
       "1  Home 2  672116  3574         5          2       4      1         West   \n",
       "2  Home 3  788230  1118         4          1       0      1         West   \n",
       "3  Home 4  794331  3878         4          2       1      1         East   \n",
       "4  Home 5  314954  3436         3          1       1      0        South   \n",
       "\n",
       "   Churn  \n",
       "0      0  \n",
       "1      1  \n",
       "2      1  \n",
       "3      1  \n",
       "4      1  "
      ]
     },
     "execution_count": 19,
     "metadata": {},
     "output_type": "execute_result"
    }
   ],
   "source": [
    "df1=pd.read_csv(\"Home_Price.csv\")\n",
    "df1.head()"
   ]
  },
  {
   "cell_type": "code",
   "execution_count": 21,
   "id": "3f0684b7-007b-4b83-9f3c-21c061641460",
   "metadata": {},
   "outputs": [],
   "source": [
    "df=df1.drop(columns=['Churn'])"
   ]
  },
  {
   "cell_type": "code",
   "execution_count": 22,
   "id": "d706f84b-cf44-4ac0-91d0-b1b05eabccd7",
   "metadata": {},
   "outputs": [],
   "source": [
    "df.to_csv('Home_price.csv',index=False)"
   ]
  },
  {
   "cell_type": "code",
   "execution_count": 23,
   "id": "c3a14fd8-7117-4861-8bd4-a2eab86b91a1",
   "metadata": {},
   "outputs": [
    {
     "data": {
      "text/html": [
       "<div>\n",
       "<style scoped>\n",
       "    .dataframe tbody tr th:only-of-type {\n",
       "        vertical-align: middle;\n",
       "    }\n",
       "\n",
       "    .dataframe tbody tr th {\n",
       "        vertical-align: top;\n",
       "    }\n",
       "\n",
       "    .dataframe thead th {\n",
       "        text-align: right;\n",
       "    }\n",
       "</style>\n",
       "<table border=\"1\" class=\"dataframe\">\n",
       "  <thead>\n",
       "    <tr style=\"text-align: right;\">\n",
       "      <th></th>\n",
       "      <th>Home</th>\n",
       "      <th>Price</th>\n",
       "      <th>SqFt</th>\n",
       "      <th>Bedrooms</th>\n",
       "      <th>Bathrooms</th>\n",
       "      <th>Offers</th>\n",
       "      <th>Brick</th>\n",
       "      <th>Neighborhood</th>\n",
       "    </tr>\n",
       "  </thead>\n",
       "  <tbody>\n",
       "    <tr>\n",
       "      <th>0</th>\n",
       "      <td>Home 1</td>\n",
       "      <td>154903</td>\n",
       "      <td>3874</td>\n",
       "      <td>4</td>\n",
       "      <td>1</td>\n",
       "      <td>1</td>\n",
       "      <td>1</td>\n",
       "      <td>East</td>\n",
       "    </tr>\n",
       "    <tr>\n",
       "      <th>1</th>\n",
       "      <td>Home 2</td>\n",
       "      <td>672116</td>\n",
       "      <td>3574</td>\n",
       "      <td>5</td>\n",
       "      <td>2</td>\n",
       "      <td>4</td>\n",
       "      <td>1</td>\n",
       "      <td>West</td>\n",
       "    </tr>\n",
       "    <tr>\n",
       "      <th>2</th>\n",
       "      <td>Home 3</td>\n",
       "      <td>788230</td>\n",
       "      <td>1118</td>\n",
       "      <td>4</td>\n",
       "      <td>1</td>\n",
       "      <td>0</td>\n",
       "      <td>1</td>\n",
       "      <td>West</td>\n",
       "    </tr>\n",
       "    <tr>\n",
       "      <th>3</th>\n",
       "      <td>Home 4</td>\n",
       "      <td>794331</td>\n",
       "      <td>3878</td>\n",
       "      <td>4</td>\n",
       "      <td>2</td>\n",
       "      <td>1</td>\n",
       "      <td>1</td>\n",
       "      <td>East</td>\n",
       "    </tr>\n",
       "    <tr>\n",
       "      <th>4</th>\n",
       "      <td>Home 5</td>\n",
       "      <td>314954</td>\n",
       "      <td>3436</td>\n",
       "      <td>3</td>\n",
       "      <td>1</td>\n",
       "      <td>1</td>\n",
       "      <td>0</td>\n",
       "      <td>South</td>\n",
       "    </tr>\n",
       "  </tbody>\n",
       "</table>\n",
       "</div>"
      ],
      "text/plain": [
       "     Home   Price  SqFt  Bedrooms  Bathrooms  Offers  Brick Neighborhood\n",
       "0  Home 1  154903  3874         4          1       1      1         East\n",
       "1  Home 2  672116  3574         5          2       4      1         West\n",
       "2  Home 3  788230  1118         4          1       0      1         West\n",
       "3  Home 4  794331  3878         4          2       1      1         East\n",
       "4  Home 5  314954  3436         3          1       1      0        South"
      ]
     },
     "execution_count": 23,
     "metadata": {},
     "output_type": "execute_result"
    }
   ],
   "source": [
    "df1=pd.read_csv(\"Home_Price.csv\")\n",
    "df1.head()"
   ]
  },
  {
   "cell_type": "code",
   "execution_count": 24,
   "id": "700cfc8f-23ab-497c-a891-5f5a3f5b864d",
   "metadata": {},
   "outputs": [
    {
     "data": {
      "text/plain": [
       "(200, 8)"
      ]
     },
     "execution_count": 24,
     "metadata": {},
     "output_type": "execute_result"
    }
   ],
   "source": [
    "df1.shape"
   ]
  },
  {
   "cell_type": "code",
   "execution_count": 25,
   "id": "1e4e37c2-d96f-4a43-ba52-ee214563227a",
   "metadata": {},
   "outputs": [
    {
     "data": {
      "text/plain": [
       "0       East\n",
       "1       West\n",
       "2       West\n",
       "3       East\n",
       "4      South\n",
       "       ...  \n",
       "195    North\n",
       "196    North\n",
       "197    South\n",
       "198    North\n",
       "199    South\n",
       "Name: Neighborhood, Length: 200, dtype: object"
      ]
     },
     "execution_count": 25,
     "metadata": {},
     "output_type": "execute_result"
    }
   ],
   "source": [
    "df1[\"Neighborhood\"]"
   ]
  },
  {
   "cell_type": "code",
   "execution_count": 26,
   "id": "7c048a0a-630d-4cfb-89be-04d792175dce",
   "metadata": {},
   "outputs": [
    {
     "data": {
      "text/plain": [
       "array(['East', 'West', 'South', 'North'], dtype=object)"
      ]
     },
     "execution_count": 26,
     "metadata": {},
     "output_type": "execute_result"
    }
   ],
   "source": [
    "df1[\"Neighborhood\"].unique()"
   ]
  },
  {
   "cell_type": "code",
   "execution_count": 27,
   "id": "83aa789e-9fcc-4e0a-922c-c6f3e31d30aa",
   "metadata": {},
   "outputs": [
    {
     "data": {
      "text/plain": [
       "Neighborhood\n",
       "North    58\n",
       "East     52\n",
       "West     50\n",
       "South    40\n",
       "Name: count, dtype: int64"
      ]
     },
     "execution_count": 27,
     "metadata": {},
     "output_type": "execute_result"
    }
   ],
   "source": [
    "df1[\"Neighborhood\"].value_counts()"
   ]
  },
  {
   "cell_type": "code",
   "execution_count": 28,
   "id": "45205529-f04b-4477-b974-35e686336e03",
   "metadata": {},
   "outputs": [
    {
     "data": {
      "text/plain": [
       "array([3874, 3574, 1118, 3878, 3436, 3044, 3765, 1978, 1196, 3288, 2543,\n",
       "       3189, 1901, 1932, 1903, 2180, 2087, 3261, 1534, 3383, 1798, 2839,\n",
       "       1890, 2802, 5891, 1850, 2076, 2330, 2283, 2276, 1616, 1977, 3595,\n",
       "       3196, 2257, 3811, 2951, 3861, 2400, 1638, 3287, 2396, 1562, 3455,\n",
       "       2727, 3285, 1499, 1463, 1473, 1790, 3500, 1866, 3295, 2518, 3186,\n",
       "       1998, 1138, 3000, 1237, 2873, 2702, 3674, 1402, 1812, 3292, 1008,\n",
       "       2313, 2006, 3622, 1836, 3482, 2990, 2927, 1886, 3647, 3974, 2166,\n",
       "       3063, 2028, 4471, 3848, 3785, 1277, 2458, 3510, 1819, 1686, 1364,\n",
       "       3996, 1416, 3396, 2943, 1600, 1633, 3626, 3041, 1550, 2566, 4992,\n",
       "       3960, 2909, 1553, 1822, 1645, 2711, 2881, 1758, 3871, 3973, 3593,\n",
       "       3897, 2693, 1527, 1786, 1105, 3444, 2379, 1485, 3796, 1511, 2030,\n",
       "       2448, 1877, 1490, 1171, 1872, 2078, 3889, 2475, 1926, 1217, 1610,\n",
       "       2143, 3864, 1927, 2021, 3835, 4941, 3971, 2899, 2284, 1242, 2278,\n",
       "       1261, 1205, 1966, 1968, 3376, 1585, 1184, 1705, 3368, 1989, 3644,\n",
       "       5984, 1478, 1947, 2907, 4232, 3251, 5767, 3896, 1991, 3731, 4931,\n",
       "       3504, 3893, 3792, 3533, 1114, 3363, 2780, 2299, 2471, 3335, 3899,\n",
       "       1276, 1957, 1844, 2569, 5739, 1748, 3342, 2366, 1584, 1173],\n",
       "      dtype=int64)"
      ]
     },
     "execution_count": 28,
     "metadata": {},
     "output_type": "execute_result"
    }
   ],
   "source": [
    "df2=df1.drop([\"Neighborhood\",\"Bedrooms\",\"Bathrooms\",\"Offers\"],axis='columns')\n",
    "df2.shape\n",
    "df2.isnull().sum()\n",
    "df2.shape\n",
    "df3=df2.dropna()\n",
    "df3.isnull().sum()\n",
    "df3.shape\n",
    "df3[\"SqFt\"].unique()"
   ]
  },
  {
   "cell_type": "code",
   "execution_count": 29,
   "id": "b08e4263-9a16-4faf-a700-246bc68ce057",
   "metadata": {},
   "outputs": [],
   "source": [
    "df3['Budget']=df3[\"Price\"].apply(lambda x:int(x.split(' ')[0]) if isinstance(x,str) else x)"
   ]
  },
  {
   "cell_type": "code",
   "execution_count": 31,
   "id": "f257f3b4-aa3f-4a25-8a17-610b12773197",
   "metadata": {},
   "outputs": [
    {
     "data": {
      "text/plain": [
       "<bound method NDFrame.head of          Home   Price  SqFt  Brick  Budget\n",
       "0      Home 1  154903  3874      1  154903\n",
       "1      Home 2  672116  3574      1  672116\n",
       "2      Home 3  788230  1118      1  788230\n",
       "3      Home 4  794331  3878      1  794331\n",
       "4      Home 5  314954  3436      0  314954\n",
       "..        ...     ...   ...    ...     ...\n",
       "195  Home 196  789255  1748      0  789255\n",
       "196  Home 197  201563  3342      0  201563\n",
       "197  Home 198  404860  2366      0  404860\n",
       "198  Home 199  782738  1584      1  782738\n",
       "199  Home 200  323174  1173      0  323174\n",
       "\n",
       "[200 rows x 5 columns]>"
      ]
     },
     "execution_count": 31,
     "metadata": {},
     "output_type": "execute_result"
    }
   ],
   "source": [
    "df3.head"
   ]
  },
  {
   "cell_type": "code",
   "execution_count": 32,
   "id": "cda34c94-7627-4411-ac51-6bf893f19ee8",
   "metadata": {},
   "outputs": [
    {
     "data": {
      "text/html": [
       "<div>\n",
       "<style scoped>\n",
       "    .dataframe tbody tr th:only-of-type {\n",
       "        vertical-align: middle;\n",
       "    }\n",
       "\n",
       "    .dataframe tbody tr th {\n",
       "        vertical-align: top;\n",
       "    }\n",
       "\n",
       "    .dataframe thead th {\n",
       "        text-align: right;\n",
       "    }\n",
       "</style>\n",
       "<table border=\"1\" class=\"dataframe\">\n",
       "  <thead>\n",
       "    <tr style=\"text-align: right;\">\n",
       "      <th></th>\n",
       "      <th>Home</th>\n",
       "      <th>Price</th>\n",
       "      <th>SqFt</th>\n",
       "      <th>Brick</th>\n",
       "      <th>Budget</th>\n",
       "    </tr>\n",
       "  </thead>\n",
       "  <tbody>\n",
       "    <tr>\n",
       "      <th>0</th>\n",
       "      <td>Home 1</td>\n",
       "      <td>154903</td>\n",
       "      <td>3874</td>\n",
       "      <td>1</td>\n",
       "      <td>154903</td>\n",
       "    </tr>\n",
       "    <tr>\n",
       "      <th>1</th>\n",
       "      <td>Home 2</td>\n",
       "      <td>672116</td>\n",
       "      <td>3574</td>\n",
       "      <td>1</td>\n",
       "      <td>672116</td>\n",
       "    </tr>\n",
       "    <tr>\n",
       "      <th>2</th>\n",
       "      <td>Home 3</td>\n",
       "      <td>788230</td>\n",
       "      <td>1118</td>\n",
       "      <td>1</td>\n",
       "      <td>788230</td>\n",
       "    </tr>\n",
       "    <tr>\n",
       "      <th>3</th>\n",
       "      <td>Home 4</td>\n",
       "      <td>794331</td>\n",
       "      <td>3878</td>\n",
       "      <td>1</td>\n",
       "      <td>794331</td>\n",
       "    </tr>\n",
       "    <tr>\n",
       "      <th>4</th>\n",
       "      <td>Home 5</td>\n",
       "      <td>314954</td>\n",
       "      <td>3436</td>\n",
       "      <td>0</td>\n",
       "      <td>314954</td>\n",
       "    </tr>\n",
       "    <tr>\n",
       "      <th>...</th>\n",
       "      <td>...</td>\n",
       "      <td>...</td>\n",
       "      <td>...</td>\n",
       "      <td>...</td>\n",
       "      <td>...</td>\n",
       "    </tr>\n",
       "    <tr>\n",
       "      <th>195</th>\n",
       "      <td>Home 196</td>\n",
       "      <td>789255</td>\n",
       "      <td>1748</td>\n",
       "      <td>0</td>\n",
       "      <td>789255</td>\n",
       "    </tr>\n",
       "    <tr>\n",
       "      <th>196</th>\n",
       "      <td>Home 197</td>\n",
       "      <td>201563</td>\n",
       "      <td>3342</td>\n",
       "      <td>0</td>\n",
       "      <td>201563</td>\n",
       "    </tr>\n",
       "    <tr>\n",
       "      <th>197</th>\n",
       "      <td>Home 198</td>\n",
       "      <td>404860</td>\n",
       "      <td>2366</td>\n",
       "      <td>0</td>\n",
       "      <td>404860</td>\n",
       "    </tr>\n",
       "    <tr>\n",
       "      <th>198</th>\n",
       "      <td>Home 199</td>\n",
       "      <td>782738</td>\n",
       "      <td>1584</td>\n",
       "      <td>1</td>\n",
       "      <td>782738</td>\n",
       "    </tr>\n",
       "    <tr>\n",
       "      <th>199</th>\n",
       "      <td>Home 200</td>\n",
       "      <td>323174</td>\n",
       "      <td>1173</td>\n",
       "      <td>0</td>\n",
       "      <td>323174</td>\n",
       "    </tr>\n",
       "  </tbody>\n",
       "</table>\n",
       "<p>200 rows × 5 columns</p>\n",
       "</div>"
      ],
      "text/plain": [
       "         Home   Price  SqFt  Brick  Budget\n",
       "0      Home 1  154903  3874      1  154903\n",
       "1      Home 2  672116  3574      1  672116\n",
       "2      Home 3  788230  1118      1  788230\n",
       "3      Home 4  794331  3878      1  794331\n",
       "4      Home 5  314954  3436      0  314954\n",
       "..        ...     ...   ...    ...     ...\n",
       "195  Home 196  789255  1748      0  789255\n",
       "196  Home 197  201563  3342      0  201563\n",
       "197  Home 198  404860  2366      0  404860\n",
       "198  Home 199  782738  1584      1  782738\n",
       "199  Home 200  323174  1173      0  323174\n",
       "\n",
       "[200 rows x 5 columns]"
      ]
     },
     "execution_count": 32,
     "metadata": {},
     "output_type": "execute_result"
    }
   ],
   "source": [
    "df3[df3.Budget>100000]"
   ]
  },
  {
   "cell_type": "code",
   "execution_count": null,
   "id": "b4a91176-29c0-4b64-8a44-466a752dfd1d",
   "metadata": {},
   "outputs": [],
   "source": []
  }
 ],
 "metadata": {
  "kernelspec": {
   "display_name": "Python 3 (ipykernel)",
   "language": "python",
   "name": "python3"
  },
  "language_info": {
   "codemirror_mode": {
    "name": "ipython",
    "version": 3
   },
   "file_extension": ".py",
   "mimetype": "text/x-python",
   "name": "python",
   "nbconvert_exporter": "python",
   "pygments_lexer": "ipython3",
   "version": "3.10.10"
  }
 },
 "nbformat": 4,
 "nbformat_minor": 5
}
