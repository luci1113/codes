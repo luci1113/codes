{
 "cells": [
  {
   "cell_type": "code",
   "execution_count": 2,
   "metadata": {},
   "outputs": [
    {
     "name": "stderr",
     "output_type": "stream",
     "text": [
      "/var/folders/qd/80qccz1s1hjf4_mwyprp4_2w0000gn/T/ipykernel_1541/1980025232.py:3: DeprecationWarning: The package qiskit.providers.ibmq is being deprecated. Please see https://ibm.biz/provider_migration_guide to get instructions on how to migrate to qiskit-ibm-provider (https://github.com/Qiskit/qiskit-ibm-provider) and qiskit-ibm-runtime (https://github.com/Qiskit/qiskit-ibm-runtime).\n",
      "  IBMQ.enable_account('303b65f077c550cf6f78be2e52a45ab7efb3c3da869bd0f9656995fa9400cac33b1d20ef8470ff201f92188bd534fcdaa8d8ed88bdf077c02502f048d0b8c575')\n",
      "/var/folders/qd/80qccz1s1hjf4_mwyprp4_2w0000gn/T/ipykernel_1541/1980025232.py:3: DeprecationWarning: The qiskit.IBMQ entrypoint and the qiskit-ibmq-provider package (accessible from 'qiskit.providers.ibmq`) are deprecated and will be removed in a future release. Instead you should use the qiskit-ibm-provider package which is accessible from 'qiskit_ibm_provider'. You can install it with 'pip install qiskit_ibm_provider'. Just replace 'qiskit.IBMQ' with 'qiskit_ibm_provider.IBMProvider'\n",
      "  IBMQ.enable_account('303b65f077c550cf6f78be2e52a45ab7efb3c3da869bd0f9656995fa9400cac33b1d20ef8470ff201f92188bd534fcdaa8d8ed88bdf077c02502f048d0b8c575')\n"
     ]
    },
    {
     "data": {
      "text/plain": [
       "<AccountProvider for IBMQ(hub='ibm-q', group='open', project='main')>"
      ]
     },
     "execution_count": 2,
     "metadata": {},
     "output_type": "execute_result"
    }
   ],
   "source": [
    "from qiskit import IBMQ\n",
    "\n",
    "IBMQ.enable_account('303b65f077c550cf6f78be2e52a45ab7efb3c3da869bd0f9656995fa9400cac33b1d20ef8470ff201f92188bd534fcdaa8d8ed88bdf077c02502f048d0b8c575')\n"
   ]
  },
  {
   "cell_type": "code",
   "execution_count": 3,
   "metadata": {},
   "outputs": [],
   "source": [
    "from qiskit import QuantumRegister,ClassicalRegister\n",
    "from qiskit import QuantumCircuit, execute\n",
    "from qiskit.tools.monitor import job_monitor\n",
    "from qiskit.circuit.library import QFT\n",
    "from qiskit.visualization import plot_histogram"
   ]
  },
  {
   "cell_type": "code",
   "execution_count": 4,
   "metadata": {},
   "outputs": [],
   "source": [
    "provider = IBMQ.get_provider()\n",
    "backend = provider.get_backend('ibmq_qasm_simulator')"
   ]
  },
  {
   "cell_type": "code",
   "execution_count": 5,
   "metadata": {},
   "outputs": [],
   "source": [
    "q = QuantumRegister(5, 'q')\n",
    "c = ClassicalRegister(5, 'c')"
   ]
  },
  {
   "cell_type": "code",
   "execution_count": 6,
   "metadata": {},
   "outputs": [],
   "source": [
    "qc = QuantumCircuit(q, c)"
   ]
  },
  {
   "cell_type": "code",
   "execution_count": 7,
   "metadata": {},
   "outputs": [
    {
     "data": {
      "text/html": [
       "<pre style=\"word-wrap: normal;white-space: pre;background: #fff0;line-height: 1.1;font-family: &quot;Courier New&quot;,Courier,monospace\">     ┌───┐┌──────┐┌─┐            \n",
       "q_0: ┤ X ├┤0     ├┤M├────────────\n",
       "     └───┘│      │└╥┘┌─┐         \n",
       "q_1: ─────┤1     ├─╫─┤M├─────────\n",
       "     ┌───┐│      │ ║ └╥┘┌─┐      \n",
       "q_2: ┤ X ├┤2 QFT ├─╫──╫─┤M├──────\n",
       "     └───┘│      │ ║  ║ └╥┘┌─┐   \n",
       "q_3: ─────┤3     ├─╫──╫──╫─┤M├───\n",
       "     ┌───┐│      │ ║  ║  ║ └╥┘┌─┐\n",
       "q_4: ┤ X ├┤4     ├─╫──╫──╫──╫─┤M├\n",
       "     └───┘└──────┘ ║  ║  ║  ║ └╥┘\n",
       "c: 5/══════════════╩══╩══╩══╩══╩═\n",
       "                   0  1  2  3  4 </pre>"
      ],
      "text/plain": [
       "     ┌───┐┌──────┐┌─┐            \n",
       "q_0: ┤ X ├┤0     ├┤M├────────────\n",
       "     └───┘│      │└╥┘┌─┐         \n",
       "q_1: ─────┤1     ├─╫─┤M├─────────\n",
       "     ┌───┐│      │ ║ └╥┘┌─┐      \n",
       "q_2: ┤ X ├┤2 QFT ├─╫──╫─┤M├──────\n",
       "     └───┘│      │ ║  ║ └╥┘┌─┐   \n",
       "q_3: ─────┤3     ├─╫──╫──╫─┤M├───\n",
       "     ┌───┐│      │ ║  ║  ║ └╥┘┌─┐\n",
       "q_4: ┤ X ├┤4     ├─╫──╫──╫──╫─┤M├\n",
       "     └───┘└──────┘ ║  ║  ║  ║ └╥┘\n",
       "c: 5/══════════════╩══╩══╩══╩══╩═\n",
       "                   0  1  2  3  4 "
      ]
     },
     "execution_count": 7,
     "metadata": {},
     "output_type": "execute_result"
    }
   ],
   "source": [
    "qc.x(q[4])\n",
    "qc.x(q[2])\n",
    "qc.x(q[0])\n",
    "qc.append(QFT(num_qubits=5, inverse= False, do_swaps=True, approximation_degree=0, insert_barriers=False),q)\n",
    "qc.measure(q,c)\n",
    "qc.draw(filename='qft.png')"
   ]
  },
  {
   "cell_type": "code",
   "execution_count": 8,
   "metadata": {},
   "outputs": [],
   "source": [
    "job = execute(qc, backend,shots=1000)"
   ]
  },
  {
   "cell_type": "code",
   "execution_count": 9,
   "metadata": {},
   "outputs": [
    {
     "name": "stdout",
     "output_type": "stream",
     "text": [
      "Job Status: job has successfully run\n"
     ]
    }
   ],
   "source": [
    "job_monitor(job)"
   ]
  },
  {
   "cell_type": "code",
   "execution_count": 10,
   "metadata": {},
   "outputs": [
    {
     "name": "stdout",
     "output_type": "stream",
     "text": [
      "{'01000': 28, '11010': 33, '11011': 35, '00110': 36, '10000': 21, '10101': 31, '01111': 36, '00101': 35, '01001': 24, '11111': 24, '10010': 37, '10110': 27, '00111': 31, '01010': 23, '10001': 28, '01110': 30, '00011': 32, '00100': 33, '10011': 33, '11100': 35, '11110': 26, '00010': 36, '10100': 32, '11101': 38, '10111': 40, '11000': 30, '00000': 34, '01011': 33, '11001': 20, '00001': 32, '01101': 35, '01100': 32}\n"
     ]
    }
   ],
   "source": [
    "counts = job.result().get_counts()\n",
    "print(counts)"
   ]
  },
  {
   "cell_type": "code",
   "execution_count": 11,
   "metadata": {},
   "outputs": [
    {
     "name": "stdout",
     "output_type": "stream",
     "text": [
      "     ┌───┐┌──────┐┌─┐            \n",
      "q_0: ┤ X ├┤0     ├┤M├────────────\n",
      "     └───┘│      │└╥┘┌─┐         \n",
      "q_1: ─────┤1     ├─╫─┤M├─────────\n",
      "     ┌───┐│      │ ║ └╥┘┌─┐      \n",
      "q_2: ┤ X ├┤2 QFT ├─╫──╫─┤M├──────\n",
      "     └───┘│      │ ║  ║ └╥┘┌─┐   \n",
      "q_3: ─────┤3     ├─╫──╫──╫─┤M├───\n",
      "     ┌───┐│      │ ║  ║  ║ └╥┘┌─┐\n",
      "q_4: ┤ X ├┤4     ├─╫──╫──╫──╫─┤M├\n",
      "     └───┘└──────┘ ║  ║  ║  ║ └╥┘\n",
      "c: 5/══════════════╩══╩══╩══╩══╩═\n",
      "                   0  1  2  3  4 \n"
     ]
    }
   ],
   "source": [
    "print(qc)"
   ]
  },
  {
   "cell_type": "code",
   "execution_count": 13,
   "metadata": {},
   "outputs": [
    {
     "data": {
      "image/png": "[encoded data removed]",
      "text/plain": [
       "<Figure size 700x500 with 1 Axes>"
      ]
     },
     "execution_count": 13,
     "metadata": {},
     "output_type": "execute_result"
    }
   ],
   "source": [
    "plot_histogram(counts)"
   ]
  },
  {
   "cell_type": "code",
   "execution_count": null,
   "metadata": {},
   "outputs": [],
   "source": []
  }
 ],
 "metadata": {
  "kernelspec": {
   "display_name": "base",
   "language": "python",
   "name": "python3"
  },
  "language_info": {
   "codemirror_mode": {
    "name": "ipython",
    "version": 3
   },
   "file_extension": ".py",
   "mimetype": "text/x-python",
   "name": "python",
   "nbconvert_exporter": "python",
   "pygments_lexer": "ipython3",
   "version": "3.11.3"
  }
 },
 "nbformat": 4,
 "nbformat_minor": 2
}
