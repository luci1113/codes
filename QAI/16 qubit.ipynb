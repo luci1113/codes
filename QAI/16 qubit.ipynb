{
 "cells": [
  {
   "cell_type": "code",
   "execution_count": 1,
   "id": "dbd142e7-c812-4c85-8376-41f48c70adb5",
   "metadata": {},
   "outputs": [
    {
     "name": "stdout",
     "output_type": "stream",
     "text": [
      "Requirement already satisfied: qiskit in c:\\users\\hp\\appdata\\local\\programs\\python\\python310\\lib\\site-packages (0.44.2)\n",
      "Requirement already satisfied: qiskit-terra==0.25.2.1 in c:\\users\\hp\\appdata\\local\\programs\\python\\python310\\lib\\site-packages (from qiskit) (0.25.2.1)\n",
      "Requirement already satisfied: rustworkx>=0.13.0 in c:\\users\\hp\\appdata\\local\\programs\\python\\python310\\lib\\site-packages (from qiskit-terra==0.25.2.1->qiskit) (0.13.2)\n",
      "Requirement already satisfied: numpy>=1.17 in c:\\users\\hp\\appdata\\local\\programs\\python\\python310\\lib\\site-packages (from qiskit-terra==0.25.2.1->qiskit) (1.26.0)\n",
      "Requirement already satisfied: ply>=3.10 in c:\\users\\hp\\appdata\\local\\programs\\python\\python310\\lib\\site-packages (from qiskit-terra==0.25.2.1->qiskit) (3.11)\n",
      "Requirement already satisfied: psutil>=5 in c:\\users\\hp\\appdata\\local\\programs\\python\\python310\\lib\\site-packages (from qiskit-terra==0.25.2.1->qiskit) (5.9.5)\n",
      "Requirement already satisfied: scipy>=1.5 in c:\\users\\hp\\appdata\\local\\programs\\python\\python310\\lib\\site-packages (from qiskit-terra==0.25.2.1->qiskit) (1.11.3)\n",
      "Requirement already satisfied: sympy>=1.3 in c:\\users\\hp\\appdata\\local\\programs\\python\\python310\\lib\\site-packages (from qiskit-terra==0.25.2.1->qiskit) (1.12)\n",
      "Requirement already satisfied: dill>=0.3 in c:\\users\\hp\\appdata\\local\\programs\\python\\python310\\lib\\site-packages (from qiskit-terra==0.25.2.1->qiskit) (0.3.7)\n",
      "Requirement already satisfied: python-dateutil>=2.8.0 in c:\\users\\hp\\appdata\\local\\programs\\python\\python310\\lib\\site-packages (from qiskit-terra==0.25.2.1->qiskit) (2.8.2)\n",
      "Requirement already satisfied: stevedore>=3.0.0 in c:\\users\\hp\\appdata\\local\\programs\\python\\python310\\lib\\site-packages (from qiskit-terra==0.25.2.1->qiskit) (5.1.0)\n",
      "Requirement already satisfied: typing-extensions in c:\\users\\hp\\appdata\\local\\programs\\python\\python310\\lib\\site-packages (from qiskit-terra==0.25.2.1->qiskit) (4.8.0)\n",
      "Requirement already satisfied: six>=1.5 in c:\\users\\hp\\appdata\\local\\programs\\python\\python310\\lib\\site-packages (from python-dateutil>=2.8.0->qiskit-terra==0.25.2.1->qiskit) (1.16.0)\n",
      "Requirement already satisfied: pbr!=2.1.0,>=2.0.0 in c:\\users\\hp\\appdata\\local\\programs\\python\\python310\\lib\\site-packages (from stevedore>=3.0.0->qiskit-terra==0.25.2.1->qiskit) (5.11.1)\n",
      "Requirement already satisfied: mpmath>=0.19 in c:\\users\\hp\\appdata\\local\\programs\\python\\python310\\lib\\site-packages (from sympy>=1.3->qiskit-terra==0.25.2.1->qiskit) (1.3.0)\n"
     ]
    },
    {
     "name": "stderr",
     "output_type": "stream",
     "text": [
      "\n",
      "[notice] A new release of pip is available: 23.2.1 -> 23.3.1\n",
      "[notice] To update, run: python.exe -m pip install --upgrade pip\n"
     ]
    },
    {
     "name": "stdout",
     "output_type": "stream",
     "text": [
      "Collecting qiskit-aer\n",
      "  Obtaining dependency information for qiskit-aer from https://files.pythonhosted.org/packages/21/8e/587c7bcc6b865aa8b30ca95d2a0526a7404ff4f0a7dbdbea67bebf6f570a/qiskit_aer-0.13.0-cp310-cp310-win_amd64.whl.metadata\n",
      "  Downloading qiskit_aer-0.13.0-cp310-cp310-win_amd64.whl.metadata (6.2 kB)\n",
      "Requirement already satisfied: qiskit>=0.44.0 in c:\\users\\hp\\appdata\\local\\programs\\python\\python310\\lib\\site-packages (from qiskit-aer) (0.44.2)\n",
      "Requirement already satisfied: numpy>=1.16.3 in c:\\users\\hp\\appdata\\local\\programs\\python\\python310\\lib\\site-packages (from qiskit-aer) (1.26.0)\n",
      "Requirement already satisfied: scipy>=1.0 in c:\\users\\hp\\appdata\\local\\programs\\python\\python310\\lib\\site-packages (from qiskit-aer) (1.11.3)\n",
      "Requirement already satisfied: qiskit-terra==0.25.2.1 in c:\\users\\hp\\appdata\\local\\programs\\python\\python310\\lib\\site-packages (from qiskit>=0.44.0->qiskit-aer) (0.25.2.1)\n",
      "Requirement already satisfied: rustworkx>=0.13.0 in c:\\users\\hp\\appdata\\local\\programs\\python\\python310\\lib\\site-packages (from qiskit-terra==0.25.2.1->qiskit>=0.44.0->qiskit-aer) (0.13.2)\n",
      "Requirement already satisfied: ply>=3.10 in c:\\users\\hp\\appdata\\local\\programs\\python\\python310\\lib\\site-packages (from qiskit-terra==0.25.2.1->qiskit>=0.44.0->qiskit-aer) (3.11)\n",
      "Requirement already satisfied: psutil>=5 in c:\\users\\hp\\appdata\\local\\programs\\python\\python310\\lib\\site-packages (from qiskit-terra==0.25.2.1->qiskit>=0.44.0->qiskit-aer) (5.9.5)\n",
      "Requirement already satisfied: sympy>=1.3 in c:\\users\\hp\\appdata\\local\\programs\\python\\python310\\lib\\site-packages (from qiskit-terra==0.25.2.1->qiskit>=0.44.0->qiskit-aer) (1.12)\n",
      "Requirement already satisfied: dill>=0.3 in c:\\users\\hp\\appdata\\local\\programs\\python\\python310\\lib\\site-packages (from qiskit-terra==0.25.2.1->qiskit>=0.44.0->qiskit-aer) (0.3.7)\n",
      "Requirement already satisfied: python-dateutil>=2.8.0 in c:\\users\\hp\\appdata\\local\\programs\\python\\python310\\lib\\site-packages (from qiskit-terra==0.25.2.1->qiskit>=0.44.0->qiskit-aer) (2.8.2)\n",
      "Requirement already satisfied: stevedore>=3.0.0 in c:\\users\\hp\\appdata\\local\\programs\\python\\python310\\lib\\site-packages (from qiskit-terra==0.25.2.1->qiskit>=0.44.0->qiskit-aer) (5.1.0)\n",
      "Requirement already satisfied: typing-extensions in c:\\users\\hp\\appdata\\local\\programs\\python\\python310\\lib\\site-packages (from qiskit-terra==0.25.2.1->qiskit>=0.44.0->qiskit-aer) (4.8.0)\n",
      "Requirement already satisfied: six>=1.5 in c:\\users\\hp\\appdata\\local\\programs\\python\\python310\\lib\\site-packages (from python-dateutil>=2.8.0->qiskit-terra==0.25.2.1->qiskit>=0.44.0->qiskit-aer) (1.16.0)\n",
      "Requirement already satisfied: pbr!=2.1.0,>=2.0.0 in c:\\users\\hp\\appdata\\local\\programs\\python\\python310\\lib\\site-packages (from stevedore>=3.0.0->qiskit-terra==0.25.2.1->qiskit>=0.44.0->qiskit-aer) (5.11.1)\n",
      "Requirement already satisfied: mpmath>=0.19 in c:\\users\\hp\\appdata\\local\\programs\\python\\python310\\lib\\site-packages (from sympy>=1.3->qiskit-terra==0.25.2.1->qiskit>=0.44.0->qiskit-aer) (1.3.0)\n",
      "Downloading qiskit_aer-0.13.0-cp310-cp310-win_amd64.whl (9.5 MB)\n",
      "   ---------------------------------------- 0.0/9.5 MB ? eta -:--:--\n",
      "    --------------------------------------- 0.2/9.5 MB 4.6 MB/s eta 0:00:03\n",
      "   - -------------------------------------- 0.4/9.5 MB 4.6 MB/s eta 0:00:02\n",
      "   -- ------------------------------------- 0.5/9.5 MB 3.8 MB/s eta 0:00:03\n",
      "   -- ------------------------------------- 0.7/9.5 MB 4.0 MB/s eta 0:00:03\n",
      "   --- ------------------------------------ 0.7/9.5 MB 3.9 MB/s eta 0:00:03\n",
      "   --- ------------------------------------ 0.7/9.5 MB 3.9 MB/s eta 0:00:03\n",
      "   --- ------------------------------------ 0.7/9.5 MB 3.9 MB/s eta 0:00:03\n",
      "   --- ------------------------------------ 0.7/9.5 MB 3.9 MB/s eta 0:00:03\n",
      "   --- ------------------------------------ 0.7/9.5 MB 3.9 MB/s eta 0:00:03\n",
      "   --- ------------------------------------ 0.8/9.5 MB 1.7 MB/s eta 0:00:06\n",
      "   --- ------------------------------------ 0.9/9.5 MB 1.8 MB/s eta 0:00:05\n",
      "   ---- ----------------------------------- 1.0/9.5 MB 1.9 MB/s eta 0:00:05\n",
      "   ----- ---------------------------------- 1.3/9.5 MB 2.1 MB/s eta 0:00:04\n",
      "   ------ --------------------------------- 1.4/9.5 MB 2.2 MB/s eta 0:00:04\n",
      "   ------ --------------------------------- 1.6/9.5 MB 2.3 MB/s eta 0:00:04\n",
      "   ------- -------------------------------- 1.8/9.5 MB 2.4 MB/s eta 0:00:04\n",
      "   -------- ------------------------------- 1.9/9.5 MB 2.5 MB/s eta 0:00:04\n",
      "   -------- ------------------------------- 2.1/9.5 MB 2.5 MB/s eta 0:00:03\n",
      "   --------- ------------------------------ 2.3/9.5 MB 2.6 MB/s eta 0:00:03\n",
      "   ---------- ----------------------------- 2.5/9.5 MB 2.7 MB/s eta 0:00:03\n",
      "   ---------- ----------------------------- 2.6/9.5 MB 2.7 MB/s eta 0:00:03\n",
      "   ----------- ---------------------------- 2.8/9.5 MB 2.7 MB/s eta 0:00:03\n",
      "   ------------ --------------------------- 2.9/9.5 MB 2.7 MB/s eta 0:00:03\n",
      "   ------------ --------------------------- 3.0/9.5 MB 2.7 MB/s eta 0:00:03\n",
      "   ------------- -------------------------- 3.3/9.5 MB 2.8 MB/s eta 0:00:03\n",
      "   -------------- ------------------------- 3.5/9.5 MB 2.9 MB/s eta 0:00:03\n",
      "   --------------- ------------------------ 3.6/9.5 MB 2.9 MB/s eta 0:00:02\n",
      "   --------------- ------------------------ 3.8/9.5 MB 3.0 MB/s eta 0:00:02\n",
      "   ----------------- ---------------------- 4.0/9.5 MB 3.0 MB/s eta 0:00:02\n",
      "   ----------------- ---------------------- 4.1/9.5 MB 3.0 MB/s eta 0:00:02\n",
      "   ------------------ --------------------- 4.4/9.5 MB 3.0 MB/s eta 0:00:02\n",
      "   ------------------- -------------------- 4.5/9.5 MB 3.1 MB/s eta 0:00:02\n",
      "   ------------------- -------------------- 4.7/9.5 MB 3.1 MB/s eta 0:00:02\n",
      "   -------------------- ------------------- 4.9/9.5 MB 3.1 MB/s eta 0:00:02\n",
      "   -------------------- ------------------- 4.9/9.5 MB 3.0 MB/s eta 0:00:02\n",
      "   --------------------- ------------------ 5.1/9.5 MB 3.0 MB/s eta 0:00:02\n",
      "   ---------------------- ----------------- 5.2/9.5 MB 3.1 MB/s eta 0:00:02\n",
      "   ---------------------- ----------------- 5.4/9.5 MB 3.1 MB/s eta 0:00:02\n",
      "   ----------------------- ---------------- 5.5/9.5 MB 3.0 MB/s eta 0:00:02\n",
      "   ----------------------- ---------------- 5.7/9.5 MB 3.1 MB/s eta 0:00:02\n",
      "   ------------------------ --------------- 5.8/9.5 MB 3.1 MB/s eta 0:00:02\n",
      "   ------------------------- -------------- 6.0/9.5 MB 3.1 MB/s eta 0:00:02\n",
      "   ------------------------- -------------- 6.2/9.5 MB 3.1 MB/s eta 0:00:02\n",
      "   --------------------------- ------------ 6.4/9.5 MB 3.1 MB/s eta 0:00:01\n",
      "   --------------------------- ------------ 6.6/9.5 MB 3.2 MB/s eta 0:00:01\n",
      "   --------------------------- ------------ 6.6/9.5 MB 3.2 MB/s eta 0:00:01\n",
      "   --------------------------- ------------ 6.6/9.5 MB 3.0 MB/s eta 0:00:01\n",
      "   ---------------------------- ----------- 6.8/9.5 MB 3.0 MB/s eta 0:00:01\n",
      "   ----------------------------- ---------- 7.0/9.5 MB 3.1 MB/s eta 0:00:01\n",
      "   ------------------------------ --------- 7.2/9.5 MB 3.1 MB/s eta 0:00:01\n",
      "   ------------------------------- -------- 7.4/9.5 MB 3.1 MB/s eta 0:00:01\n",
      "   ------------------------------- -------- 7.5/9.5 MB 3.1 MB/s eta 0:00:01\n",
      "   -------------------------------- ------- 7.6/9.5 MB 3.1 MB/s eta 0:00:01\n",
      "   -------------------------------- ------- 7.7/9.5 MB 3.1 MB/s eta 0:00:01\n",
      "   -------------------------------- ------- 7.7/9.5 MB 3.0 MB/s eta 0:00:01\n",
      "   -------------------------------- ------- 7.7/9.5 MB 3.0 MB/s eta 0:00:01\n",
      "   -------------------------------- ------- 7.7/9.5 MB 3.0 MB/s eta 0:00:01\n",
      "   -------------------------------- ------- 7.7/9.5 MB 3.0 MB/s eta 0:00:01\n",
      "   -------------------------------- ------- 7.7/9.5 MB 3.0 MB/s eta 0:00:01\n",
      "   -------------------------------- ------- 7.7/9.5 MB 3.0 MB/s eta 0:00:01\n",
      "   -------------------------------- ------- 7.7/9.5 MB 3.0 MB/s eta 0:00:01\n",
      "   -------------------------------- ------- 7.7/9.5 MB 3.0 MB/s eta 0:00:01\n",
      "   -------------------------------- ------- 7.7/9.5 MB 3.0 MB/s eta 0:00:01\n",
      "   -------------------------------- ------- 7.7/9.5 MB 3.0 MB/s eta 0:00:01\n",
      "   -------------------------------- ------- 7.7/9.5 MB 3.0 MB/s eta 0:00:01\n",
      "   --------------------------------- ------ 7.9/9.5 MB 2.6 MB/s eta 0:00:01\n",
      "   --------------------------------- ------ 7.9/9.5 MB 2.6 MB/s eta 0:00:01\n",
      "   ---------------------------------- ----- 8.1/9.5 MB 2.5 MB/s eta 0:00:01\n",
      "   ---------------------------------- ----- 8.2/9.5 MB 2.5 MB/s eta 0:00:01\n",
      "   ---------------------------------- ----- 8.3/9.5 MB 2.5 MB/s eta 0:00:01\n",
      "   ----------------------------------- ---- 8.4/9.5 MB 2.5 MB/s eta 0:00:01\n",
      "   ----------------------------------- ---- 8.5/9.5 MB 2.5 MB/s eta 0:00:01\n",
      "   ------------------------------------ --- 8.6/9.5 MB 2.5 MB/s eta 0:00:01\n",
      "   ------------------------------------ --- 8.7/9.5 MB 2.5 MB/s eta 0:00:01\n",
      "   ------------------------------------ --- 8.8/9.5 MB 2.5 MB/s eta 0:00:01\n",
      "   ------------------------------------- -- 8.9/9.5 MB 2.5 MB/s eta 0:00:01\n",
      "   ------------------------------------- -- 9.0/9.5 MB 2.5 MB/s eta 0:00:01\n",
      "   -------------------------------------- - 9.0/9.5 MB 2.4 MB/s eta 0:00:01\n",
      "   -------------------------------------- - 9.1/9.5 MB 2.4 MB/s eta 0:00:01\n",
      "   -------------------------------------- - 9.2/9.5 MB 2.4 MB/s eta 0:00:01\n",
      "   ---------------------------------------  9.3/9.5 MB 2.4 MB/s eta 0:00:01\n",
      "   ---------------------------------------  9.4/9.5 MB 2.4 MB/s eta 0:00:01\n",
      "   ---------------------------------------  9.5/9.5 MB 2.4 MB/s eta 0:00:01\n",
      "   ---------------------------------------  9.5/9.5 MB 2.4 MB/s eta 0:00:01\n",
      "   ---------------------------------------- 9.5/9.5 MB 2.4 MB/s eta 0:00:00\n",
      "Installing collected packages: qiskit-aer\n",
      "Successfully installed qiskit-aer-0.13.0\n"
     ]
    },
    {
     "name": "stderr",
     "output_type": "stream",
     "text": [
      "\n",
      "[notice] A new release of pip is available: 23.2.1 -> 23.3.1\n",
      "[notice] To update, run: python.exe -m pip install --upgrade pip\n"
     ]
    }
   ],
   "source": [
    "!pip install qiskit\n",
    "!pip install qiskit-aer"
   ]
  },
  {
   "cell_type": "code",
   "execution_count": 40,
   "id": "f10ebfc0-04c1-4237-85af-2355b1729c76",
   "metadata": {},
   "outputs": [],
   "source": [
    "import numpy as np\n",
    "from qiskit import QuantumCircuit, transpile, assemble, Aer\n",
    "from qiskit.visualization import plot_histogram"
   ]
  },
  {
   "cell_type": "code",
   "execution_count": 41,
   "id": "19a02049-9e37-4896-935d-2d8e3a9af9c4",
   "metadata": {},
   "outputs": [
    {
     "name": "stdin",
     "output_type": "stream",
     "text": [
      "Enter the number of qubits:  16\n"
     ]
    }
   ],
   "source": [
    "num_qubits = int(input(\"Enter the number of qubits: \"))"
   ]
  },
  {
   "cell_type": "code",
   "execution_count": 42,
   "id": "f8f66ce3-0196-46cd-89a9-7fc115e23468",
   "metadata": {},
   "outputs": [],
   "source": [
    "# Create a quantum circuit with the specified number of qubits\n",
    "qc = QuantumCircuit(num_qubits, num_qubits)"
   ]
  },
  {
   "cell_type": "code",
   "execution_count": 43,
   "id": "36ebcd5a-5dcb-4324-9107-3f651e103fab",
   "metadata": {},
   "outputs": [],
   "source": [
    "# Apply Hadamard gates to all qubits to create superposition\n",
    "for i in range(num_qubits):\n",
    "    qc.h(i)"
   ]
  },
  {
   "cell_type": "code",
   "execution_count": 44,
   "id": "26327526-429f-418d-b80a-991f3aefc219",
   "metadata": {},
   "outputs": [
    {
     "data": {
      "text/plain": [
       "<qiskit.circuit.instructionset.InstructionSet at 0x2fb7cd6f880>"
      ]
     },
     "execution_count": 44,
     "metadata": {},
     "output_type": "execute_result"
    }
   ],
   "source": [
    "qc.measure(range(num_qubits), range(num_qubits))\n"
   ]
  },
  {
   "cell_type": "code",
   "execution_count": 45,
   "id": "7311dd11-c73a-46ff-b1fa-31fbe061da3c",
   "metadata": {},
   "outputs": [],
   "source": [
    "simulator = Aer.get_backend('qasm_simulator')\n",
    "compiled_circuit = transpile(qc, simulator)\n",
    "qobj = assemble(compiled_circuit, shots=1)"
   ]
  },
  {
   "cell_type": "code",
   "execution_count": 49,
   "id": "793fb984-c754-42cc-9fcd-0f14c8998362",
   "metadata": {},
   "outputs": [
    {
     "name": "stderr",
     "output_type": "stream",
     "text": [
      "C:\\Users\\hp\\AppData\\Local\\Temp\\ipykernel_6920\\1521998930.py:2: DeprecationWarning: Using a qobj for run() is deprecated as of qiskit-aer 0.9.0 and will be removed no sooner than 3 months from that release date. Transpiled circuits should now be passed directly using `backend.run(circuits, **run_options).\n",
      "  result = simulator.run(qobj).result()\n"
     ]
    }
   ],
   "source": [
    "# Run the circuit and obtain the result\n",
    "result = simulator.run(qobj).result()\n",
    "counts = result.get_counts()"
   ]
  },
  {
   "cell_type": "code",
   "execution_count": 50,
   "id": "4ff6b0af-578b-4219-89b9-654815360c7d",
   "metadata": {},
   "outputs": [
    {
     "name": "stdout",
     "output_type": "stream",
     "text": [
      "Random Number (in decimal): 8175\n",
      "Random Number (in binary): 0001111111101111\n"
     ]
    }
   ],
   "source": [
    "# Convert the measurement result to an integer\n",
    "random_number = int(list(counts.keys())[0], 2)\n",
    "\n",
    "print(\"Random Number (in decimal):\", random_number)\n",
    "print(\"Random Number (in binary):\", bin(random_number)[2:].zfill(num_qubits))"
   ]
  },
  {
   "cell_type": "code",
   "execution_count": 56,
   "id": "36d02628-230b-4558-a3f7-73bf23b7384b",
   "metadata": {},
   "outputs": [
    {
     "data": {
      "text/html": [
       "<pre style=\"word-wrap: normal;white-space: pre;background: #fff0;line-height: 1.1;font-family: &quot;Courier New&quot;,Courier,monospace\">      ┌───┐┌─┐                                             \n",
       " q_0: ┤ H ├┤M├─────────────────────────────────────────────\n",
       "      ├───┤└╥┘┌─┐                                          \n",
       " q_1: ┤ H ├─╫─┤M├──────────────────────────────────────────\n",
       "      ├───┤ ║ └╥┘┌─┐                                       \n",
       " q_2: ┤ H ├─╫──╫─┤M├───────────────────────────────────────\n",
       "      ├───┤ ║  ║ └╥┘┌─┐                                    \n",
       " q_3: ┤ H ├─╫──╫──╫─┤M├────────────────────────────────────\n",
       "      ├───┤ ║  ║  ║ └╥┘┌─┐                                 \n",
       " q_4: ┤ H ├─╫──╫──╫──╫─┤M├─────────────────────────────────\n",
       "      ├───┤ ║  ║  ║  ║ └╥┘┌─┐                              \n",
       " q_5: ┤ H ├─╫──╫──╫──╫──╫─┤M├──────────────────────────────\n",
       "      ├───┤ ║  ║  ║  ║  ║ └╥┘┌─┐                           \n",
       " q_6: ┤ H ├─╫──╫──╫──╫──╫──╫─┤M├───────────────────────────\n",
       "      ├───┤ ║  ║  ║  ║  ║  ║ └╥┘┌─┐                        \n",
       " q_7: ┤ H ├─╫──╫──╫──╫──╫──╫──╫─┤M├────────────────────────\n",
       "      ├───┤ ║  ║  ║  ║  ║  ║  ║ └╥┘┌─┐                     \n",
       " q_8: ┤ H ├─╫──╫──╫──╫──╫──╫──╫──╫─┤M├─────────────────────\n",
       "      ├───┤ ║  ║  ║  ║  ║  ║  ║  ║ └╥┘┌─┐                  \n",
       " q_9: ┤ H ├─╫──╫──╫──╫──╫──╫──╫──╫──╫─┤M├──────────────────\n",
       "      ├───┤ ║  ║  ║  ║  ║  ║  ║  ║  ║ └╥┘┌─┐               \n",
       "q_10: ┤ H ├─╫──╫──╫──╫──╫──╫──╫──╫──╫──╫─┤M├───────────────\n",
       "      ├───┤ ║  ║  ║  ║  ║  ║  ║  ║  ║  ║ └╥┘┌─┐            \n",
       "q_11: ┤ H ├─╫──╫──╫──╫──╫──╫──╫──╫──╫──╫──╫─┤M├────────────\n",
       "      ├───┤ ║  ║  ║  ║  ║  ║  ║  ║  ║  ║  ║ └╥┘┌─┐         \n",
       "q_12: ┤ H ├─╫──╫──╫──╫──╫──╫──╫──╫──╫──╫──╫──╫─┤M├─────────\n",
       "      ├───┤ ║  ║  ║  ║  ║  ║  ║  ║  ║  ║  ║  ║ └╥┘┌─┐      \n",
       "q_13: ┤ H ├─╫──╫──╫──╫──╫──╫──╫──╫──╫──╫──╫──╫──╫─┤M├──────\n",
       "      ├───┤ ║  ║  ║  ║  ║  ║  ║  ║  ║  ║  ║  ║  ║ └╥┘┌─┐   \n",
       "q_14: ┤ H ├─╫──╫──╫──╫──╫──╫──╫──╫──╫──╫──╫──╫──╫──╫─┤M├───\n",
       "      ├───┤ ║  ║  ║  ║  ║  ║  ║  ║  ║  ║  ║  ║  ║  ║ └╥┘┌─┐\n",
       "q_15: ┤ H ├─╫──╫──╫──╫──╫──╫──╫──╫──╫──╫──╫──╫──╫──╫──╫─┤M├\n",
       "      └───┘ ║  ║  ║  ║  ║  ║  ║  ║  ║  ║  ║  ║  ║  ║  ║ └╥┘\n",
       "c: 16/══════╩══╩══╩══╩══╩══╩══╩══╩══╩══╩══╩══╩══╩══╩══╩══╩═\n",
       "            0  1  2  3  4  5  6  7  8  9  10 11 12 13 14 15</pre>"
      ],
      "text/plain": [
       "      ┌───┐┌─┐                                             \n",
       " q_0: ┤ H ├┤M├─────────────────────────────────────────────\n",
       "      ├───┤└╥┘┌─┐                                          \n",
       " q_1: ┤ H ├─╫─┤M├──────────────────────────────────────────\n",
       "      ├───┤ ║ └╥┘┌─┐                                       \n",
       " q_2: ┤ H ├─╫──╫─┤M├───────────────────────────────────────\n",
       "      ├───┤ ║  ║ └╥┘┌─┐                                    \n",
       " q_3: ┤ H ├─╫──╫──╫─┤M├────────────────────────────────────\n",
       "      ├───┤ ║  ║  ║ └╥┘┌─┐                                 \n",
       " q_4: ┤ H ├─╫──╫──╫──╫─┤M├─────────────────────────────────\n",
       "      ├───┤ ║  ║  ║  ║ └╥┘┌─┐                              \n",
       " q_5: ┤ H ├─╫──╫──╫──╫──╫─┤M├──────────────────────────────\n",
       "      ├───┤ ║  ║  ║  ║  ║ └╥┘┌─┐                           \n",
       " q_6: ┤ H ├─╫──╫──╫──╫──╫──╫─┤M├───────────────────────────\n",
       "      ├───┤ ║  ║  ║  ║  ║  ║ └╥┘┌─┐                        \n",
       " q_7: ┤ H ├─╫──╫──╫──╫──╫──╫──╫─┤M├────────────────────────\n",
       "      ├───┤ ║  ║  ║  ║  ║  ║  ║ └╥┘┌─┐                     \n",
       " q_8: ┤ H ├─╫──╫──╫──╫──╫──╫──╫──╫─┤M├─────────────────────\n",
       "      ├───┤ ║  ║  ║  ║  ║  ║  ║  ║ └╥┘┌─┐                  \n",
       " q_9: ┤ H ├─╫──╫──╫──╫──╫──╫──╫──╫──╫─┤M├──────────────────\n",
       "      ├───┤ ║  ║  ║  ║  ║  ║  ║  ║  ║ └╥┘┌─┐               \n",
       "q_10: ┤ H ├─╫──╫──╫──╫──╫──╫──╫──╫──╫──╫─┤M├───────────────\n",
       "      ├───┤ ║  ║  ║  ║  ║  ║  ║  ║  ║  ║ └╥┘┌─┐            \n",
       "q_11: ┤ H ├─╫──╫──╫──╫──╫──╫──╫──╫──╫──╫──╫─┤M├────────────\n",
       "      ├───┤ ║  ║  ║  ║  ║  ║  ║  ║  ║  ║  ║ └╥┘┌─┐         \n",
       "q_12: ┤ H ├─╫──╫──╫──╫──╫──╫──╫──╫──╫──╫──╫──╫─┤M├─────────\n",
       "      ├───┤ ║  ║  ║  ║  ║  ║  ║  ║  ║  ║  ║  ║ └╥┘┌─┐      \n",
       "q_13: ┤ H ├─╫──╫──╫──╫──╫──╫──╫──╫──╫──╫──╫──╫──╫─┤M├──────\n",
       "      ├───┤ ║  ║  ║  ║  ║  ║  ║  ║  ║  ║  ║  ║  ║ └╥┘┌─┐   \n",
       "q_14: ┤ H ├─╫──╫──╫──╫──╫──╫──╫──╫──╫──╫──╫──╫──╫──╫─┤M├───\n",
       "      ├───┤ ║  ║  ║  ║  ║  ║  ║  ║  ║  ║  ║  ║  ║  ║ └╥┘┌─┐\n",
       "q_15: ┤ H ├─╫──╫──╫──╫──╫──╫──╫──╫──╫──╫──╫──╫──╫──╫──╫─┤M├\n",
       "      └───┘ ║  ║  ║  ║  ║  ║  ║  ║  ║  ║  ║  ║  ║  ║  ║ └╥┘\n",
       "c: 16/══════╩══╩══╩══╩══╩══╩══╩══╩══╩══╩══╩══╩══╩══╩══╩══╩═\n",
       "            0  1  2  3  4  5  6  7  8  9  10 11 12 13 14 15"
      ]
     },
     "execution_count": 56,
     "metadata": {},
     "output_type": "execute_result"
    }
   ],
   "source": [
    "qc.draw()"
   ]
  },
  {
   "cell_type": "code",
   "execution_count": null,
   "id": "21d633b8-1e38-40b1-b69f-c1bbcb90f773",
   "metadata": {},
   "outputs": [],
   "source": []
  },
  {
   "cell_type": "code",
   "execution_count": null,
   "id": "500d49ba-6919-4e64-9039-255d1beea1cf",
   "metadata": {},
   "outputs": [],
   "source": []
  }
 ],
 "metadata": {
  "kernelspec": {
   "display_name": "Python 3 (ipykernel)",
   "language": "python",
   "name": "python3"
  },
  "language_info": {
   "codemirror_mode": {
    "name": "ipython",
    "version": 3
   },
   "file_extension": ".py",
   "mimetype": "text/x-python",
   "name": "python",
   "nbconvert_exporter": "python",
   "pygments_lexer": "ipython3",
   "version": "3.10.10"
  }
 },
 "nbformat": 4,
 "nbformat_minor": 5
}
