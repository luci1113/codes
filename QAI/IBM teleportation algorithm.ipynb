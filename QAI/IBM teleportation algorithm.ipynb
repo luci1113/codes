{
 "cells": [
  {
   "cell_type": "code",
   "execution_count": 1,
   "id": "de1cd55b-e43d-42d1-aa49-5d566eb898a3",
   "metadata": {},
   "outputs": [
    {
     "data": {
      "image/png": "[encoded data removed]",
      "text/plain": [
       "<Figure size 700x500 with 1 Axes>"
      ]
     },
     "execution_count": 1,
     "metadata": {},
     "output_type": "execute_result"
    }
   ],
   "source": [
    "from qiskit import QuantumCircuit, transpile, assemble, Aer, execute\n",
    "from qiskit.visualization import plot_histogram\n",
    "from qiskit.extensions import UnitaryGate\n",
    "\n",
    "# Create a quantum circuit with 3 qubits and 3 classical bits\n",
    "qc = QuantumCircuit(3, 3)\n",
    "\n",
    "# Create an initial state to teleport\n",
    "initial_state = [0, 1]\n",
    "qc.initialize(initial_state, 0)\n",
    "\n",
    "# Create entangled qubits\n",
    "qc.h(1)\n",
    "qc.cx(1, 2)\n",
    "\n",
    "# Perform a Bell measurement\n",
    "qc.cx(0, 1)\n",
    "qc.h(0)\n",
    "qc.barrier()\n",
    "qc.measure([0, 1], [0, 1])\n",
    "\n",
    "# Apply Pauli-X and Pauli-Z gates based on the measurement results\n",
    "qc.z(2).c_if(0, 1)\n",
    "qc.x(2).c_if(1, 1)\n",
    "\n",
    "# Measure the final qubit\n",
    "qc.measure(2, 2)\n",
    "\n",
    "# Simulate the quantum circuit\n",
    "simulator = Aer.get_backend('qasm_simulator')\n",
    "job = execute(qc, simulator, shots=1024)\n",
    "result = job.result()\n",
    "counts = result.get_counts()\n",
    "\n",
    "# Display the measurement results\n",
    "plot_histogram(counts)\n"
   ]
  },
  {
   "cell_type": "code",
   "execution_count": 2,
   "id": "7ae7388b-3af5-4c64-9548-8e7698c9b9e4",
   "metadata": {},
   "outputs": [
    {
     "data": {
      "text/html": [
       "<pre style=\"word-wrap: normal;white-space: pre;background: #fff0;line-height: 1.1;font-family: &quot;Courier New&quot;,Courier,monospace\">     ┌─────────────────┐          ┌───┐ ░ ┌─┐                            \n",
       "q_0: ┤ Initialize(0,1) ├───────■──┤ H ├─░─┤M├────────────────────────────\n",
       "     └──────┬───┬──────┘     ┌─┴─┐└───┘ ░ └╥┘┌─┐                         \n",
       "q_1: ───────┤ H ├─────────■──┤ X ├──────░──╫─┤M├─────────────────────────\n",
       "            └───┘       ┌─┴─┐└───┘      ░  ║ └╥┘   ┌───┐      ┌───┐   ┌─┐\n",
       "q_2: ───────────────────┤ X ├───────────░──╫──╫────┤ Z ├──────┤ X ├───┤M├\n",
       "                        └───┘           ░  ║  ║    └─╥─┘      └─╥─┘   └╥┘\n",
       "                                           ║  ║ ┌────╨────┐┌────╨────┐ ║ \n",
       "c: 3/══════════════════════════════════════╩══╩═╡ c_0=0x1 ╞╡ c_1=0x1 ╞═╩═\n",
       "                                           0  1 └─────────┘└─────────┘ 2 </pre>"
      ],
      "text/plain": [
       "     ┌─────────────────┐          ┌───┐ ░ ┌─┐                            \n",
       "q_0: ┤ Initialize(0,1) ├───────■──┤ H ├─░─┤M├────────────────────────────\n",
       "     └──────┬───┬──────┘     ┌─┴─┐└───┘ ░ └╥┘┌─┐                         \n",
       "q_1: ───────┤ H ├─────────■──┤ X ├──────░──╫─┤M├─────────────────────────\n",
       "            └───┘       ┌─┴─┐└───┘      ░  ║ └╥┘   ┌───┐      ┌───┐   ┌─┐\n",
       "q_2: ───────────────────┤ X ├───────────░──╫──╫────┤ Z ├──────┤ X ├───┤M├\n",
       "                        └───┘           ░  ║  ║    └─╥─┘      └─╥─┘   └╥┘\n",
       "                                           ║  ║ ┌────╨────┐┌────╨────┐ ║ \n",
       "c: 3/══════════════════════════════════════╩══╩═╡ c_0=0x1 ╞╡ c_1=0x1 ╞═╩═\n",
       "                                           0  1 └─────────┘└─────────┘ 2 "
      ]
     },
     "execution_count": 2,
     "metadata": {},
     "output_type": "execute_result"
    }
   ],
   "source": [
    "qc.draw()"
   ]
  },
  {
   "cell_type": "code",
   "execution_count": null,
   "id": "8f821d31-9ddb-41f7-8135-fdf4d0b742e1",
   "metadata": {},
   "outputs": [],
   "source": []
  }
 ],
 "metadata": {
  "kernelspec": {
   "display_name": "Python 3 (ipykernel)",
   "language": "python",
   "name": "python3"
  },
  "language_info": {
   "codemirror_mode": {
    "name": "ipython",
    "version": 3
   },
   "file_extension": ".py",
   "mimetype": "text/x-python",
   "name": "python",
   "nbconvert_exporter": "python",
   "pygments_lexer": "ipython3",
   "version": "3.10.10"
  }
 },
 "nbformat": 4,
 "nbformat_minor": 5
}
