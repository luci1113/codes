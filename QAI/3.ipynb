{
 "cells": [
  {
   "cell_type": "code",
   "execution_count": 1,
   "metadata": {},
   "outputs": [],
   "source": [
    "from qiskit import QuantumCircuit, transpile, Aer, execute\n",
    "from qiskit.visualization import plot_histogram"
   ]
  },
  {
   "cell_type": "code",
   "execution_count": 2,
   "metadata": {},
   "outputs": [],
   "source": [
    "qc = QuantumCircuit(3,3)"
   ]
  },
  {
   "cell_type": "code",
   "execution_count": 3,
   "metadata": {},
   "outputs": [
    {
     "data": {
      "text/plain": [
       "<qiskit.circuit.instructionset.InstructionSet at 0x126b1efb0>"
      ]
     },
     "execution_count": 3,
     "metadata": {},
     "output_type": "execute_result"
    }
   ],
   "source": [
    "initial_state = [0,1]\n",
    "qc.initialize(initial_state, 0)"
   ]
  },
  {
   "cell_type": "code",
   "execution_count": 4,
   "metadata": {},
   "outputs": [
    {
     "name": "stdout",
     "output_type": "stream",
     "text": [
      "     ┌─────────────────┐     \n",
      "q_0: ┤ Initialize(0,1) ├─────\n",
      "     └──────┬───┬──────┘     \n",
      "q_1: ───────┤ H ├─────────■──\n",
      "            └───┘       ┌─┴─┐\n",
      "q_2: ───────────────────┤ X ├\n",
      "                        └───┘\n",
      "c: 3/════════════════════════\n",
      "                             \n"
     ]
    }
   ],
   "source": [
    "qc.h(1)\n",
    "qc.cx(1,2)\n",
    "print(qc)"
   ]
  },
  {
   "cell_type": "code",
   "execution_count": 5,
   "metadata": {},
   "outputs": [
    {
     "name": "stdout",
     "output_type": "stream",
     "text": [
      "     ┌─────────────────┐          ┌───┐ ░ ┌─┐   \n",
      "q_0: ┤ Initialize(0,1) ├───────■──┤ H ├─░─┤M├───\n",
      "     └──────┬───┬──────┘     ┌─┴─┐└───┘ ░ └╥┘┌─┐\n",
      "q_1: ───────┤ H ├─────────■──┤ X ├──────░──╫─┤M├\n",
      "            └───┘       ┌─┴─┐└───┘      ░  ║ └╥┘\n",
      "q_2: ───────────────────┤ X ├───────────░──╫──╫─\n",
      "                        └───┘           ░  ║  ║ \n",
      "c: 3/══════════════════════════════════════╩══╩═\n",
      "                                           0  1 \n"
     ]
    }
   ],
   "source": [
    "qc.cx(0,1)\n",
    "qc.h(0)\n",
    "qc.barrier()\n",
    "qc.measure([0,1], [0,1])\n",
    "print(qc)"
   ]
  },
  {
   "cell_type": "code",
   "execution_count": 12,
   "metadata": {},
   "outputs": [
    {
     "data": {
      "text/plain": [
       "<qiskit.circuit.instructionset.InstructionSet at 0x2a27103d0>"
      ]
     },
     "execution_count": 12,
     "metadata": {},
     "output_type": "execute_result"
    }
   ],
   "source": [
    "qc.x(2).c_if(0,1)\n",
    "qc.z(2).c_if(1,1)"
   ]
  },
  {
   "cell_type": "code",
   "execution_count": 13,
   "metadata": {},
   "outputs": [
    {
     "data": {
      "text/plain": [
       "<qiskit.circuit.instructionset.InstructionSet at 0x2a267f070>"
      ]
     },
     "execution_count": 13,
     "metadata": {},
     "output_type": "execute_result"
    }
   ],
   "source": [
    "qc.measure(2,2)"
   ]
  },
  {
   "cell_type": "code",
   "execution_count": 16,
   "metadata": {},
   "outputs": [],
   "source": [
    "simulator = Aer.get_backend('qasm_simulator')\n",
    "job = execute(qc, simulator, shots=1024)\n",
    "result = job.result()\n",
    "counts = result.get_counts()"
   ]
  },
  {
   "cell_type": "code",
   "execution_count": 17,
   "metadata": {},
   "outputs": [
    {
     "data": {
      "image/png": "[encoded data removed]",
      "text/plain": [
       "<Figure size 700x500 with 1 Axes>"
      ]
     },
     "execution_count": 17,
     "metadata": {},
     "output_type": "execute_result"
    }
   ],
   "source": [
    "plot_histogram(counts)"
   ]
  },
  {
   "cell_type": "code",
   "execution_count": 20,
   "metadata": {},
   "outputs": [
    {
     "data": {
      "text/html": [
       "<pre style=\"word-wrap: normal;white-space: pre;background: #fff0;line-height: 1.1;font-family: &quot;Courier New&quot;,Courier,monospace\">     ┌─────────────────┐          ┌───┐ ░ ┌─┐                               \n",
       "q_0: ┤ Initialize(0,1) ├───────■──┤ H ├─░─┤M├───────────────────────────────\n",
       "     └──────┬───┬──────┘     ┌─┴─┐└───┘ ░ └╥┘┌─┐                            \n",
       "q_1: ───────┤ H ├─────────■──┤ X ├──────░──╫─┤M├────────────────────────────\n",
       "            └───┘       ┌─┴─┐└───┘      ░  ║ └╥┘   ┌───┐      ┌───┐   ┌─┐┌─┐\n",
       "q_2: ───────────────────┤ X ├───────────░──╫──╫────┤ Z ├──────┤ X ├───┤M├┤M├\n",
       "                        └───┘           ░  ║  ║    └─╥─┘      └─╥─┘   └╥┘└╥┘\n",
       "                                           ║  ║ ┌────╨────┐┌────╨────┐ ║  ║ \n",
       "c: 3/══════════════════════════════════════╩══╩═╡ c_0=0x1 ╞╡ c_1=0x1 ╞═╩══╩═\n",
       "                                           0  1 └─────────┘└─────────┘ 2  2 </pre>"
      ],
      "text/plain": [
       "     ┌─────────────────┐          ┌───┐ ░ ┌─┐                               \n",
       "q_0: ┤ Initialize(0,1) ├───────■──┤ H ├─░─┤M├───────────────────────────────\n",
       "     └──────┬───┬──────┘     ┌─┴─┐└───┘ ░ └╥┘┌─┐                            \n",
       "q_1: ───────┤ H ├─────────■──┤ X ├──────░──╫─┤M├────────────────────────────\n",
       "            └───┘       ┌─┴─┐└───┘      ░  ║ └╥┘   ┌───┐      ┌───┐   ┌─┐┌─┐\n",
       "q_2: ───────────────────┤ X ├───────────░──╫──╫────┤ Z ├──────┤ X ├───┤M├┤M├\n",
       "                        └───┘           ░  ║  ║    └─╥─┘      └─╥─┘   └╥┘└╥┘\n",
       "                                           ║  ║ ┌────╨────┐┌────╨────┐ ║  ║ \n",
       "c: 3/══════════════════════════════════════╩══╩═╡ c_0=0x1 ╞╡ c_1=0x1 ╞═╩══╩═\n",
       "                                           0  1 └─────────┘└─────────┘ 2  2 "
      ]
     },
     "execution_count": 20,
     "metadata": {},
     "output_type": "execute_result"
    }
   ],
   "source": [
    "qc.draw()"
   ]
  },
  {
   "cell_type": "code",
   "execution_count": null,
   "metadata": {},
   "outputs": [],
   "source": []
  }
 ],
 "metadata": {
  "kernelspec": {
   "display_name": "base",
   "language": "python",
   "name": "python3"
  },
  "language_info": {
   "codemirror_mode": {
    "name": "ipython",
    "version": 3
   },
   "file_extension": ".py",
   "mimetype": "text/x-python",
   "name": "python",
   "nbconvert_exporter": "python",
   "pygments_lexer": "ipython3",
   "version": "3.11.3"
  }
 },
 "nbformat": 4,
 "nbformat_minor": 2
}
